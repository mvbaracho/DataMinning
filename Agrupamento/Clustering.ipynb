{
  "nbformat": 4,
  "nbformat_minor": 0,
  "metadata": {
    "colab": {
      "name": "Clustering.ipynb",
      "provenance": [],
      "collapsed_sections": [
        "Zg2XBqHJpe28",
        "BXNNxCxjXq5G"
      ],
      "include_colab_link": true
    },
    "kernelspec": {
      "name": "python3",
      "display_name": "Python 3"
    },
    "language_info": {
      "name": "python"
    }
  },
  "cells": [
    {
      "cell_type": "markdown",
      "metadata": {
        "id": "view-in-github",
        "colab_type": "text"
      },
      "source": [
        "<a href=\"https://colab.research.google.com/github/mvbaracho/DataMinning/blob/main/Agrupamento/Clustering.ipynb\" target=\"_parent\"><img src=\"https://colab.research.google.com/assets/colab-badge.svg\" alt=\"Open In Colab\"/></a>"
      ]
    },
    {
      "cell_type": "markdown",
      "metadata": {
        "id": "uEBymY2gXuTY"
      },
      "source": [
        "## **SETUP**"
      ]
    },
    {
      "cell_type": "code",
      "metadata": {
        "id": "0cG41kYdX2hE"
      },
      "source": [
        "#BIBLIOTECAS\n",
        "#Imports\n",
        "import numpy as np\n",
        "import matplotlib.pyplot as plt\n",
        "from matplotlib.ticker import PercentFormatter\n",
        "import pandas as pd\n",
        "import seaborn as sns\n",
        "import statistics\n",
        "import datetime as dt\n",
        "import calendar\n",
        "import sklearn\n",
        "from sklearn.cluster import KMeans\n",
        "from sklearn.preprocessing import StandardScaler\n",
        "from sklearn.metrics.pairwise import euclidean_distances\n",
        "from sklearn import preprocessing\n",
        "from sklearn.cluster import AgglomerativeClustering\n",
        "from sklearn.cluster import DBSCAN\n",
        "from sklearn import metrics\n",
        "from sklearn.decomposition import PCA\n",
        "\n",
        "%matplotlib inline\n",
        "\n",
        "from pydrive.auth import GoogleAuth\n",
        "from pydrive.drive import GoogleDrive\n",
        "from google.colab import auth\n",
        "from oauth2client.client import GoogleCredentials\n",
        "\n",
        "auth.authenticate_user()\n",
        "gauth = GoogleAuth()\n",
        "gauth.credentials = GoogleCredentials.get_application_default()\n",
        "drive = GoogleDrive(gauth)\n",
        "\n",
        "downloaded = drive.CreateFile({'id':\"138bRT5WPXfCdZj2fS_sMars4NlaQr75y\"})\n",
        "downloaded.GetContentFile('Sales2.csv')"
      ],
      "execution_count": null,
      "outputs": []
    },
    {
      "cell_type": "code",
      "metadata": {
        "id": "N7MrukU7X8HK",
        "colab": {
          "base_uri": "https://localhost:8080/",
          "height": 204
        },
        "outputId": "a3c5141a-c823-4017-ea2a-061130a69c15"
      },
      "source": [
        "# CARREGANDO DB\n",
        "df = pd.read_csv('Sales2.csv', sep=';', na_values='?')\n",
        "\n",
        "df.head()"
      ],
      "execution_count": null,
      "outputs": [
        {
          "output_type": "execute_result",
          "data": {
            "text/html": [
              "<div>\n",
              "<style scoped>\n",
              "    .dataframe tbody tr th:only-of-type {\n",
              "        vertical-align: middle;\n",
              "    }\n",
              "\n",
              "    .dataframe tbody tr th {\n",
              "        vertical-align: top;\n",
              "    }\n",
              "\n",
              "    .dataframe thead th {\n",
              "        text-align: right;\n",
              "    }\n",
              "</style>\n",
              "<table border=\"1\" class=\"dataframe\">\n",
              "  <thead>\n",
              "    <tr style=\"text-align: right;\">\n",
              "      <th></th>\n",
              "      <th>Retailer</th>\n",
              "      <th>Pdv</th>\n",
              "      <th>Price</th>\n",
              "      <th>PaymentMethod</th>\n",
              "      <th>Timestamp</th>\n",
              "      <th>City</th>\n",
              "      <th>State</th>\n",
              "    </tr>\n",
              "  </thead>\n",
              "  <tbody>\n",
              "    <tr>\n",
              "      <th>0</th>\n",
              "      <td>536329</td>\n",
              "      <td>137</td>\n",
              "      <td>0.15</td>\n",
              "      <td>1</td>\n",
              "      <td>2018-05-16 17:30:23.000</td>\n",
              "      <td>Pereira Barreto</td>\n",
              "      <td>SP</td>\n",
              "    </tr>\n",
              "    <tr>\n",
              "      <th>1</th>\n",
              "      <td>536329</td>\n",
              "      <td>136</td>\n",
              "      <td>1.38</td>\n",
              "      <td>1</td>\n",
              "      <td>2018-05-17 10:21:36.000</td>\n",
              "      <td>Pereira Barreto</td>\n",
              "      <td>SP</td>\n",
              "    </tr>\n",
              "    <tr>\n",
              "      <th>2</th>\n",
              "      <td>536329</td>\n",
              "      <td>135</td>\n",
              "      <td>1.00</td>\n",
              "      <td>1</td>\n",
              "      <td>2018-05-17 10:23:59.000</td>\n",
              "      <td>Pereira Barreto</td>\n",
              "      <td>SP</td>\n",
              "    </tr>\n",
              "    <tr>\n",
              "      <th>3</th>\n",
              "      <td>536329</td>\n",
              "      <td>135</td>\n",
              "      <td>10.00</td>\n",
              "      <td>1</td>\n",
              "      <td>2018-05-17 10:29:24.000</td>\n",
              "      <td>Pereira Barreto</td>\n",
              "      <td>SP</td>\n",
              "    </tr>\n",
              "    <tr>\n",
              "      <th>4</th>\n",
              "      <td>536329</td>\n",
              "      <td>136</td>\n",
              "      <td>0.79</td>\n",
              "      <td>1</td>\n",
              "      <td>2018-05-17 10:32:20.000</td>\n",
              "      <td>Pereira Barreto</td>\n",
              "      <td>SP</td>\n",
              "    </tr>\n",
              "  </tbody>\n",
              "</table>\n",
              "</div>"
            ],
            "text/plain": [
              "   Retailer  Pdv  Price  ...                Timestamp             City State\n",
              "0    536329  137   0.15  ...  2018-05-16 17:30:23.000  Pereira Barreto    SP\n",
              "1    536329  136   1.38  ...  2018-05-17 10:21:36.000  Pereira Barreto    SP\n",
              "2    536329  135   1.00  ...  2018-05-17 10:23:59.000  Pereira Barreto    SP\n",
              "3    536329  135  10.00  ...  2018-05-17 10:29:24.000  Pereira Barreto    SP\n",
              "4    536329  136   0.79  ...  2018-05-17 10:32:20.000  Pereira Barreto    SP\n",
              "\n",
              "[5 rows x 7 columns]"
            ]
          },
          "metadata": {},
          "execution_count": 29
        }
      ]
    },
    {
      "cell_type": "markdown",
      "metadata": {
        "id": "kJpWtHoUYE1b"
      },
      "source": [
        "## **Pré-Processamento**"
      ]
    },
    {
      "cell_type": "code",
      "metadata": {
        "colab": {
          "base_uri": "https://localhost:8080/",
          "height": 419
        },
        "id": "5lpEqDR9WKDq",
        "outputId": "a7aa54f1-084f-4792-f123-922c957d2428"
      },
      "source": [
        "#PRÉ-PROCESSAMENTO DA BASE DE DADOS\n",
        "\n",
        "#sns.heatmap(df.isna())\n",
        "df['Timestamp']= pd.to_datetime(df['Timestamp'],format='%Y-%m-%d')\n",
        "df['year']= df['Timestamp'].dt.year\n",
        "df['month']= df['Timestamp'].dt.month\n",
        "df['day']= df['Timestamp'].dt.day\n",
        "df['hour'] = df['Timestamp'].dt.hour\n",
        "df['Weekday'] = df['Timestamp'].dt.day_name()\n",
        "#df['PaymentMethod'] = np.where(df['PaymentMethod'] > 1, 'Credit Card', 'Cash')\n",
        "#df['PeriodDay'] = np.where((df['hour'] > 0) & (df['hour']<=6), 0, 1)\n",
        "b = [0,6,12,18,24]\n",
        "l = [0, 1, 2,3]\n",
        "df['session'] = pd.cut(df['hour'], bins=b, labels=l, include_lowest=True)\n",
        "df = df.drop(columns=['Timestamp', 'Retailer', 'Pdv'])\n",
        "df"
      ],
      "execution_count": null,
      "outputs": [
        {
          "output_type": "execute_result",
          "data": {
            "text/html": [
              "<div>\n",
              "<style scoped>\n",
              "    .dataframe tbody tr th:only-of-type {\n",
              "        vertical-align: middle;\n",
              "    }\n",
              "\n",
              "    .dataframe tbody tr th {\n",
              "        vertical-align: top;\n",
              "    }\n",
              "\n",
              "    .dataframe thead th {\n",
              "        text-align: right;\n",
              "    }\n",
              "</style>\n",
              "<table border=\"1\" class=\"dataframe\">\n",
              "  <thead>\n",
              "    <tr style=\"text-align: right;\">\n",
              "      <th></th>\n",
              "      <th>Price</th>\n",
              "      <th>PaymentMethod</th>\n",
              "      <th>City</th>\n",
              "      <th>State</th>\n",
              "      <th>year</th>\n",
              "      <th>month</th>\n",
              "      <th>day</th>\n",
              "      <th>hour</th>\n",
              "      <th>Weekday</th>\n",
              "      <th>session</th>\n",
              "    </tr>\n",
              "  </thead>\n",
              "  <tbody>\n",
              "    <tr>\n",
              "      <th>0</th>\n",
              "      <td>0.15</td>\n",
              "      <td>1</td>\n",
              "      <td>Pereira Barreto</td>\n",
              "      <td>SP</td>\n",
              "      <td>2018</td>\n",
              "      <td>5</td>\n",
              "      <td>16</td>\n",
              "      <td>17</td>\n",
              "      <td>Wednesday</td>\n",
              "      <td>2</td>\n",
              "    </tr>\n",
              "    <tr>\n",
              "      <th>1</th>\n",
              "      <td>1.38</td>\n",
              "      <td>1</td>\n",
              "      <td>Pereira Barreto</td>\n",
              "      <td>SP</td>\n",
              "      <td>2018</td>\n",
              "      <td>5</td>\n",
              "      <td>17</td>\n",
              "      <td>10</td>\n",
              "      <td>Thursday</td>\n",
              "      <td>1</td>\n",
              "    </tr>\n",
              "    <tr>\n",
              "      <th>2</th>\n",
              "      <td>1.00</td>\n",
              "      <td>1</td>\n",
              "      <td>Pereira Barreto</td>\n",
              "      <td>SP</td>\n",
              "      <td>2018</td>\n",
              "      <td>5</td>\n",
              "      <td>17</td>\n",
              "      <td>10</td>\n",
              "      <td>Thursday</td>\n",
              "      <td>1</td>\n",
              "    </tr>\n",
              "    <tr>\n",
              "      <th>3</th>\n",
              "      <td>10.00</td>\n",
              "      <td>1</td>\n",
              "      <td>Pereira Barreto</td>\n",
              "      <td>SP</td>\n",
              "      <td>2018</td>\n",
              "      <td>5</td>\n",
              "      <td>17</td>\n",
              "      <td>10</td>\n",
              "      <td>Thursday</td>\n",
              "      <td>1</td>\n",
              "    </tr>\n",
              "    <tr>\n",
              "      <th>4</th>\n",
              "      <td>0.79</td>\n",
              "      <td>1</td>\n",
              "      <td>Pereira Barreto</td>\n",
              "      <td>SP</td>\n",
              "      <td>2018</td>\n",
              "      <td>5</td>\n",
              "      <td>17</td>\n",
              "      <td>10</td>\n",
              "      <td>Thursday</td>\n",
              "      <td>1</td>\n",
              "    </tr>\n",
              "    <tr>\n",
              "      <th>...</th>\n",
              "      <td>...</td>\n",
              "      <td>...</td>\n",
              "      <td>...</td>\n",
              "      <td>...</td>\n",
              "      <td>...</td>\n",
              "      <td>...</td>\n",
              "      <td>...</td>\n",
              "      <td>...</td>\n",
              "      <td>...</td>\n",
              "      <td>...</td>\n",
              "    </tr>\n",
              "    <tr>\n",
              "      <th>1801730</th>\n",
              "      <td>0.91</td>\n",
              "      <td>1</td>\n",
              "      <td>Ilha Solteira</td>\n",
              "      <td>SP</td>\n",
              "      <td>2021</td>\n",
              "      <td>7</td>\n",
              "      <td>15</td>\n",
              "      <td>9</td>\n",
              "      <td>Thursday</td>\n",
              "      <td>1</td>\n",
              "    </tr>\n",
              "    <tr>\n",
              "      <th>1801731</th>\n",
              "      <td>9.54</td>\n",
              "      <td>8</td>\n",
              "      <td>Fernandópolis</td>\n",
              "      <td>SP</td>\n",
              "      <td>2021</td>\n",
              "      <td>7</td>\n",
              "      <td>15</td>\n",
              "      <td>9</td>\n",
              "      <td>Thursday</td>\n",
              "      <td>1</td>\n",
              "    </tr>\n",
              "    <tr>\n",
              "      <th>1801732</th>\n",
              "      <td>9.74</td>\n",
              "      <td>8</td>\n",
              "      <td>São José do Rio Preto</td>\n",
              "      <td>SP</td>\n",
              "      <td>2021</td>\n",
              "      <td>7</td>\n",
              "      <td>15</td>\n",
              "      <td>9</td>\n",
              "      <td>Thursday</td>\n",
              "      <td>1</td>\n",
              "    </tr>\n",
              "    <tr>\n",
              "      <th>1801733</th>\n",
              "      <td>9.46</td>\n",
              "      <td>8</td>\n",
              "      <td>Pereira Barreto</td>\n",
              "      <td>SP</td>\n",
              "      <td>2021</td>\n",
              "      <td>7</td>\n",
              "      <td>15</td>\n",
              "      <td>9</td>\n",
              "      <td>Thursday</td>\n",
              "      <td>1</td>\n",
              "    </tr>\n",
              "    <tr>\n",
              "      <th>1801734</th>\n",
              "      <td>0.68</td>\n",
              "      <td>1</td>\n",
              "      <td>Ilha Solteira</td>\n",
              "      <td>SP</td>\n",
              "      <td>2021</td>\n",
              "      <td>7</td>\n",
              "      <td>15</td>\n",
              "      <td>9</td>\n",
              "      <td>Thursday</td>\n",
              "      <td>1</td>\n",
              "    </tr>\n",
              "  </tbody>\n",
              "</table>\n",
              "<p>1801735 rows × 10 columns</p>\n",
              "</div>"
            ],
            "text/plain": [
              "         Price  PaymentMethod                   City  ... hour    Weekday  session\n",
              "0         0.15              1        Pereira Barreto  ...   17  Wednesday        2\n",
              "1         1.38              1        Pereira Barreto  ...   10   Thursday        1\n",
              "2         1.00              1        Pereira Barreto  ...   10   Thursday        1\n",
              "3        10.00              1        Pereira Barreto  ...   10   Thursday        1\n",
              "4         0.79              1        Pereira Barreto  ...   10   Thursday        1\n",
              "...        ...            ...                    ...  ...  ...        ...      ...\n",
              "1801730   0.91              1          Ilha Solteira  ...    9   Thursday        1\n",
              "1801731   9.54              8          Fernandópolis  ...    9   Thursday        1\n",
              "1801732   9.74              8  São José do Rio Preto  ...    9   Thursday        1\n",
              "1801733   9.46              8        Pereira Barreto  ...    9   Thursday        1\n",
              "1801734   0.68              1          Ilha Solteira  ...    9   Thursday        1\n",
              "\n",
              "[1801735 rows x 10 columns]"
            ]
          },
          "metadata": {},
          "execution_count": 30
        }
      ]
    },
    {
      "cell_type": "code",
      "metadata": {
        "id": "RYD1dI8svyVW"
      },
      "source": [
        "# Pré-processamento -> LabelEncoder para transformar strings para inteiros\n",
        "le = preprocessing.LabelEncoder()\n",
        "df['City'] = le.fit_transform(df['City'])\n",
        "df['State'] = le.fit_transform(df['State'])\n",
        "df['Weekday'] = le.fit_transform(df['Weekday'])\n",
        "df['session'] = le.fit_transform(df['session'])"
      ],
      "execution_count": null,
      "outputs": []
    },
    {
      "cell_type": "markdown",
      "metadata": {
        "id": "LUwdDojkxrTG"
      },
      "source": [
        "## **Técnica K-Means**"
      ]
    },
    {
      "cell_type": "code",
      "metadata": {
        "id": "e3sbY5gkc_Rv",
        "colab": {
          "base_uri": "https://localhost:8080/"
        },
        "outputId": "824b5ede-2996-4c83-989e-b1c84de6d8d4"
      },
      "source": [
        "#Início K-Means\n",
        "# Inicializa o K-Means com 3 centroides randômicos\n",
        "kmeans = KMeans(n_clusters = 3, init = 'random')\n",
        "# Faz o agrupamento dos dados semelhantes\n",
        "kmeans.fit(df)\n",
        "# Obtém os centroides que foram gerados\n",
        "centroids = kmeans.cluster_centers_\n",
        "centroids"
      ],
      "execution_count": null,
      "outputs": [
        {
          "output_type": "execute_result",
          "data": {
            "text/plain": [
              "array([[1.41375468e+00, 4.17683957e+00, 5.40493886e+00, 9.67749972e-01,\n",
              "        2.01967963e+03, 6.34824199e+00, 1.54352737e+01, 1.39999356e+01,\n",
              "        2.94384041e+00, 1.71996644e+00],\n",
              "       [1.40211565e+00, 4.01642533e+00, 5.30487948e+00, 9.75216129e-01,\n",
              "        2.01956326e+03, 6.56469041e+00, 2.57706903e+01, 1.39590041e+01,\n",
              "        2.88922671e+00, 1.71236139e+00],\n",
              "       [1.47946438e+00, 4.17326366e+00, 5.35078875e+00, 9.67254517e-01,\n",
              "        2.01969346e+03, 6.43013173e+00, 5.60111762e+00, 1.40109812e+01,\n",
              "        2.95482830e+00, 1.72683912e+00]])"
            ]
          },
          "metadata": {},
          "execution_count": 32
        }
      ]
    },
    {
      "cell_type": "code",
      "metadata": {
        "colab": {
          "base_uri": "https://localhost:8080/"
        },
        "id": "MfoM_tEEs5zR",
        "outputId": "8cb20974-403a-4a28-d46c-0a392d148371"
      },
      "source": [
        "# Pega cada registro e computa a distância pros centroides\n",
        "distance = kmeans.fit_transform(df)\n",
        "distance"
      ],
      "execution_count": null,
      "outputs": [
        {
          "output_type": "execute_result",
          "data": {
            "text/plain": [
              "array([[ 5.95157661, 11.42436692, 11.98296279],\n",
              "       [ 5.93036029, 10.43145057, 12.76942866],\n",
              "       [ 5.94468054, 10.43917473, 12.77803981],\n",
              "       ...,\n",
              "       [10.93933784, 15.40285521, 14.38753421],\n",
              "       [10.4261484 , 15.0291933 , 13.99488462],\n",
              "       [ 6.73841895, 12.63043284, 11.54718208]])"
            ]
          },
          "metadata": {},
          "execution_count": 33
        }
      ]
    },
    {
      "cell_type": "code",
      "metadata": {
        "colab": {
          "base_uri": "https://localhost:8080/"
        },
        "id": "sw803gbSuA2g",
        "outputId": "b0420a42-5b3b-413e-cb99-dd82121804a6"
      },
      "source": [
        "# As labels possuem 3 classes diferentes sendo geradas corretamente\n",
        "labels = kmeans.labels_\n",
        "labels"
      ],
      "execution_count": null,
      "outputs": [
        {
          "output_type": "execute_result",
          "data": {
            "text/plain": [
              "array([0, 0, 0, ..., 0, 0, 0], dtype=int32)"
            ]
          },
          "metadata": {},
          "execution_count": 34
        }
      ]
    },
    {
      "cell_type": "code",
      "metadata": {
        "colab": {
          "base_uri": "https://localhost:8080/",
          "height": 465
        },
        "id": "3FG4c4uQuk-o",
        "outputId": "36709e9b-96e8-421e-c2a1-90cab2de7b1c"
      },
      "source": [
        "# Método Elbow: verifica a quantidade ideal de clusters para o nosso problema\n",
        "wcss = []\n",
        "for i in range(1,11):\n",
        "    kmeans = KMeans(n_clusters = i, init = 'random')\n",
        "    kmeans.fit(df)\n",
        "    print(i,kmeans.inertia_)\n",
        "    wcss.append(kmeans.inertia_)  \n",
        "plt.plot(range(1,11), wcss)\n",
        "plt.title('O Metodo Elbow')\n",
        "plt.xlabel('Numero de Clusters')\n",
        "plt.ylabel('WSS') #within cluster sum of squares\n",
        "plt.show()"
      ],
      "execution_count": null,
      "outputs": [
        {
          "output_type": "stream",
          "text": [
            "1 236330464.85809994\n",
            "2 132201669.66427846\n",
            "3 113185956.5134806\n",
            "4 105365336.14222835\n",
            "5 98029943.05280001\n",
            "6 91311966.50649033\n",
            "7 87903815.55832498\n",
            "8 84046080.428486\n",
            "9 80213997.40204945\n",
            "10 76928758.6106915\n"
          ],
          "name": "stdout"
        },
        {
          "output_type": "display_data",
          "data": {
            "image/png": "[encoded data removed]",
            "text/plain": [
              "<Figure size 432x288 with 1 Axes>"
            ]
          },
          "metadata": {
            "needs_background": "light"
          }
        }
      ]
    },
    {
      "cell_type": "code",
      "metadata": {
        "id": "zlJMKXTmwBZz",
        "colab": {
          "base_uri": "https://localhost:8080/",
          "height": 265
        },
        "outputId": "1eda123e-65e3-4028-8816-3cce19d0416d"
      },
      "source": [
        "plt.scatter(df.iloc[:,0], df.iloc[:,9]) #posicionamento dos eixos x e y\n",
        "plt.scatter(kmeans.cluster_centers_[:,1],kmeans.cluster_centers_[:,0], s = 70, c = 'red') #posição de cada centroide no gráfico\n",
        "plt.show()\n",
        "# Usar gráfico de barras eixo x -> label (0,1,2,3)  X -> Qtd. de elementos p/grupo "
      ],
      "execution_count": null,
      "outputs": [
        {
          "output_type": "display_data",
          "data": {
            "image/png": "[encoded data removed]",
            "text/plain": [
              "<Figure size 432x288 with 1 Axes>"
            ]
          },
          "metadata": {
            "needs_background": "light"
          }
        }
      ]
    },
    {
      "cell_type": "code",
      "metadata": {
        "id": "UKdrHnDz1AkT"
      },
      "source": [
        "df['Clusters'] = labels  #Criando a coluna relativa aos clusters"
      ],
      "execution_count": null,
      "outputs": []
    },
    {
      "cell_type": "code",
      "metadata": {
        "colab": {
          "base_uri": "https://localhost:8080/",
          "height": 49
        },
        "id": "98gxb0HhiQ7s",
        "outputId": "d0dc4e52-60b8-4fc3-d27a-fa41ac130a41"
      },
      "source": [
        "df[df['Clusters'] == 8]"
      ],
      "execution_count": null,
      "outputs": [
        {
          "output_type": "execute_result",
          "data": {
            "text/html": [
              "<div>\n",
              "<style scoped>\n",
              "    .dataframe tbody tr th:only-of-type {\n",
              "        vertical-align: middle;\n",
              "    }\n",
              "\n",
              "    .dataframe tbody tr th {\n",
              "        vertical-align: top;\n",
              "    }\n",
              "\n",
              "    .dataframe thead th {\n",
              "        text-align: right;\n",
              "    }\n",
              "</style>\n",
              "<table border=\"1\" class=\"dataframe\">\n",
              "  <thead>\n",
              "    <tr style=\"text-align: right;\">\n",
              "      <th></th>\n",
              "      <th>Price</th>\n",
              "      <th>PaymentMethod</th>\n",
              "      <th>City</th>\n",
              "      <th>State</th>\n",
              "      <th>year</th>\n",
              "      <th>month</th>\n",
              "      <th>day</th>\n",
              "      <th>hour</th>\n",
              "      <th>Weekday</th>\n",
              "      <th>session</th>\n",
              "      <th>Clusters</th>\n",
              "    </tr>\n",
              "  </thead>\n",
              "  <tbody>\n",
              "  </tbody>\n",
              "</table>\n",
              "</div>"
            ],
            "text/plain": [
              "Empty DataFrame\n",
              "Columns: [Price, PaymentMethod, City, State, year, month, day, hour, Weekday, session, Clusters]\n",
              "Index: []"
            ]
          },
          "metadata": {},
          "execution_count": 38
        }
      ]
    },
    {
      "cell_type": "code",
      "metadata": {
        "id": "hOn3BIrM1D0N",
        "colab": {
          "base_uri": "https://localhost:8080/",
          "height": 414
        },
        "outputId": "e00f5e4a-2c78-4001-a244-b7afe793b192"
      },
      "source": [
        "# Plotando o gráfico: 3 cores representando 3 clusters diferentes\n",
        "fig = plt.figure(figsize= (6,6))\n",
        "\n",
        "ax = fig.add_subplot(1,1,1)\n",
        "ax.set_xlabel('Preço', fontsize = 15)\n",
        "ax.set_ylabel('Período do dia', fontsize = 15)\n",
        "ax.set_title('Componentes principais', fontsize = 20)\n",
        "\n",
        "colors = np.array([\"blue\", \"yellow\", \"green\"])\n",
        "ax.scatter(x=df.Price, y=df.session, c=colors[df.Clusters], s=50)\n",
        "plt.show()"
      ],
      "execution_count": null,
      "outputs": [
        {
          "output_type": "display_data",
          "data": {
            "image/png": "[encoded data removed]",
            "text/plain": [
              "<Figure size 432x432 with 1 Axes>"
            ]
          },
          "metadata": {
            "needs_background": "light"
          }
        }
      ]
    },
    {
      "cell_type": "code",
      "metadata": {
        "colab": {
          "base_uri": "https://localhost:8080/"
        },
        "id": "10LXn6kGjlsn",
        "outputId": "3f1bb6f8-e99c-4088-b2ce-ea6157b300ca"
      },
      "source": [
        "df['Clusters'].value_counts()"
      ],
      "execution_count": null,
      "outputs": [
        {
          "output_type": "execute_result",
          "data": {
            "text/plain": [
              "2    625613\n",
              "0    590015\n",
              "1    586107\n",
              "Name: Clusters, dtype: int64"
            ]
          },
          "metadata": {},
          "execution_count": 40
        }
      ]
    },
    {
      "cell_type": "code",
      "metadata": {
        "colab": {
          "base_uri": "https://localhost:8080/",
          "height": 279
        },
        "id": "e9hwYwpOjs4b",
        "outputId": "1b2fc75f-e4f6-496b-e0f6-66c7de95d0cd"
      },
      "source": [
        "plt.bar(df['Clusters'].value_counts().keys(), df['Clusters'].value_counts().values, color=['red', 'green', 'black'])\n",
        "plt.xlabel('Grupos')\n",
        "plt.ylabel('Quantidade')\n",
        "plt.xticks([0,1,2])\n",
        "plt.show()"
      ],
      "execution_count": null,
      "outputs": [
        {
          "output_type": "display_data",
          "data": {
            "image/png": "[encoded data removed]",
            "text/plain": [
              "<Figure size 432x288 with 1 Axes>"
            ]
          },
          "metadata": {
            "needs_background": "light"
          }
        }
      ]
    },
    {
      "cell_type": "markdown",
      "metadata": {
        "id": "I4n9xO8fl637"
      },
      "source": [
        "## **K-means e PCA**\n",
        "\n",
        "> Redução da dimensionalidade linear usando a decomposição de valores singulares dos dados para projetá-los em um espaço dimensional inferior.\n",
        "\n"
      ]
    },
    {
      "cell_type": "code",
      "metadata": {
        "colab": {
          "base_uri": "https://localhost:8080/",
          "height": 419
        },
        "id": "mwBhVy3AUGOa",
        "outputId": "bf36ac5f-7ba6-4b28-90cf-6e0449c2e0ca"
      },
      "source": [
        "# Dropando a coluna clusters do K-means anterior\n",
        "df = df.drop(columns='Clusters')\n",
        "df"
      ],
      "execution_count": null,
      "outputs": [
        {
          "output_type": "execute_result",
          "data": {
            "text/html": [
              "<div>\n",
              "<style scoped>\n",
              "    .dataframe tbody tr th:only-of-type {\n",
              "        vertical-align: middle;\n",
              "    }\n",
              "\n",
              "    .dataframe tbody tr th {\n",
              "        vertical-align: top;\n",
              "    }\n",
              "\n",
              "    .dataframe thead th {\n",
              "        text-align: right;\n",
              "    }\n",
              "</style>\n",
              "<table border=\"1\" class=\"dataframe\">\n",
              "  <thead>\n",
              "    <tr style=\"text-align: right;\">\n",
              "      <th></th>\n",
              "      <th>Price</th>\n",
              "      <th>PaymentMethod</th>\n",
              "      <th>City</th>\n",
              "      <th>State</th>\n",
              "      <th>year</th>\n",
              "      <th>month</th>\n",
              "      <th>day</th>\n",
              "      <th>hour</th>\n",
              "      <th>Weekday</th>\n",
              "      <th>session</th>\n",
              "    </tr>\n",
              "  </thead>\n",
              "  <tbody>\n",
              "    <tr>\n",
              "      <th>0</th>\n",
              "      <td>0.15</td>\n",
              "      <td>1</td>\n",
              "      <td>6</td>\n",
              "      <td>1</td>\n",
              "      <td>2018</td>\n",
              "      <td>5</td>\n",
              "      <td>16</td>\n",
              "      <td>17</td>\n",
              "      <td>6</td>\n",
              "      <td>2</td>\n",
              "    </tr>\n",
              "    <tr>\n",
              "      <th>1</th>\n",
              "      <td>1.38</td>\n",
              "      <td>1</td>\n",
              "      <td>6</td>\n",
              "      <td>1</td>\n",
              "      <td>2018</td>\n",
              "      <td>5</td>\n",
              "      <td>17</td>\n",
              "      <td>10</td>\n",
              "      <td>4</td>\n",
              "      <td>1</td>\n",
              "    </tr>\n",
              "    <tr>\n",
              "      <th>2</th>\n",
              "      <td>1.00</td>\n",
              "      <td>1</td>\n",
              "      <td>6</td>\n",
              "      <td>1</td>\n",
              "      <td>2018</td>\n",
              "      <td>5</td>\n",
              "      <td>17</td>\n",
              "      <td>10</td>\n",
              "      <td>4</td>\n",
              "      <td>1</td>\n",
              "    </tr>\n",
              "    <tr>\n",
              "      <th>3</th>\n",
              "      <td>10.00</td>\n",
              "      <td>1</td>\n",
              "      <td>6</td>\n",
              "      <td>1</td>\n",
              "      <td>2018</td>\n",
              "      <td>5</td>\n",
              "      <td>17</td>\n",
              "      <td>10</td>\n",
              "      <td>4</td>\n",
              "      <td>1</td>\n",
              "    </tr>\n",
              "    <tr>\n",
              "      <th>4</th>\n",
              "      <td>0.79</td>\n",
              "      <td>1</td>\n",
              "      <td>6</td>\n",
              "      <td>1</td>\n",
              "      <td>2018</td>\n",
              "      <td>5</td>\n",
              "      <td>17</td>\n",
              "      <td>10</td>\n",
              "      <td>4</td>\n",
              "      <td>1</td>\n",
              "    </tr>\n",
              "    <tr>\n",
              "      <th>...</th>\n",
              "      <td>...</td>\n",
              "      <td>...</td>\n",
              "      <td>...</td>\n",
              "      <td>...</td>\n",
              "      <td>...</td>\n",
              "      <td>...</td>\n",
              "      <td>...</td>\n",
              "      <td>...</td>\n",
              "      <td>...</td>\n",
              "      <td>...</td>\n",
              "    </tr>\n",
              "    <tr>\n",
              "      <th>1801730</th>\n",
              "      <td>0.91</td>\n",
              "      <td>1</td>\n",
              "      <td>3</td>\n",
              "      <td>1</td>\n",
              "      <td>2021</td>\n",
              "      <td>7</td>\n",
              "      <td>15</td>\n",
              "      <td>9</td>\n",
              "      <td>4</td>\n",
              "      <td>1</td>\n",
              "    </tr>\n",
              "    <tr>\n",
              "      <th>1801731</th>\n",
              "      <td>9.54</td>\n",
              "      <td>8</td>\n",
              "      <td>2</td>\n",
              "      <td>1</td>\n",
              "      <td>2021</td>\n",
              "      <td>7</td>\n",
              "      <td>15</td>\n",
              "      <td>9</td>\n",
              "      <td>4</td>\n",
              "      <td>1</td>\n",
              "    </tr>\n",
              "    <tr>\n",
              "      <th>1801732</th>\n",
              "      <td>9.74</td>\n",
              "      <td>8</td>\n",
              "      <td>8</td>\n",
              "      <td>1</td>\n",
              "      <td>2021</td>\n",
              "      <td>7</td>\n",
              "      <td>15</td>\n",
              "      <td>9</td>\n",
              "      <td>4</td>\n",
              "      <td>1</td>\n",
              "    </tr>\n",
              "    <tr>\n",
              "      <th>1801733</th>\n",
              "      <td>9.46</td>\n",
              "      <td>8</td>\n",
              "      <td>6</td>\n",
              "      <td>1</td>\n",
              "      <td>2021</td>\n",
              "      <td>7</td>\n",
              "      <td>15</td>\n",
              "      <td>9</td>\n",
              "      <td>4</td>\n",
              "      <td>1</td>\n",
              "    </tr>\n",
              "    <tr>\n",
              "      <th>1801734</th>\n",
              "      <td>0.68</td>\n",
              "      <td>1</td>\n",
              "      <td>3</td>\n",
              "      <td>1</td>\n",
              "      <td>2021</td>\n",
              "      <td>7</td>\n",
              "      <td>15</td>\n",
              "      <td>9</td>\n",
              "      <td>4</td>\n",
              "      <td>1</td>\n",
              "    </tr>\n",
              "  </tbody>\n",
              "</table>\n",
              "<p>1801735 rows × 10 columns</p>\n",
              "</div>"
            ],
            "text/plain": [
              "         Price  PaymentMethod  City  State  ...  day  hour  Weekday  session\n",
              "0         0.15              1     6      1  ...   16    17        6        2\n",
              "1         1.38              1     6      1  ...   17    10        4        1\n",
              "2         1.00              1     6      1  ...   17    10        4        1\n",
              "3        10.00              1     6      1  ...   17    10        4        1\n",
              "4         0.79              1     6      1  ...   17    10        4        1\n",
              "...        ...            ...   ...    ...  ...  ...   ...      ...      ...\n",
              "1801730   0.91              1     3      1  ...   15     9        4        1\n",
              "1801731   9.54              8     2      1  ...   15     9        4        1\n",
              "1801732   9.74              8     8      1  ...   15     9        4        1\n",
              "1801733   9.46              8     6      1  ...   15     9        4        1\n",
              "1801734   0.68              1     3      1  ...   15     9        4        1\n",
              "\n",
              "[1801735 rows x 10 columns]"
            ]
          },
          "metadata": {},
          "execution_count": 42
        }
      ]
    },
    {
      "cell_type": "code",
      "metadata": {
        "id": "Q3Q50OGGm0Gq",
        "colab": {
          "base_uri": "https://localhost:8080/",
          "height": 419
        },
        "outputId": "7a129169-9c07-451c-cf33-6d1e03debc5a"
      },
      "source": [
        "# Normalização dos dados -> Eliminação de discrepâncias\n",
        "\n",
        "new_df = ((df - df.min()) / (df.max() - df.min()))\n",
        "new_df"
      ],
      "execution_count": null,
      "outputs": [
        {
          "output_type": "execute_result",
          "data": {
            "text/html": [
              "<div>\n",
              "<style scoped>\n",
              "    .dataframe tbody tr th:only-of-type {\n",
              "        vertical-align: middle;\n",
              "    }\n",
              "\n",
              "    .dataframe tbody tr th {\n",
              "        vertical-align: top;\n",
              "    }\n",
              "\n",
              "    .dataframe thead th {\n",
              "        text-align: right;\n",
              "    }\n",
              "</style>\n",
              "<table border=\"1\" class=\"dataframe\">\n",
              "  <thead>\n",
              "    <tr style=\"text-align: right;\">\n",
              "      <th></th>\n",
              "      <th>Price</th>\n",
              "      <th>PaymentMethod</th>\n",
              "      <th>City</th>\n",
              "      <th>State</th>\n",
              "      <th>year</th>\n",
              "      <th>month</th>\n",
              "      <th>day</th>\n",
              "      <th>hour</th>\n",
              "      <th>Weekday</th>\n",
              "      <th>session</th>\n",
              "    </tr>\n",
              "  </thead>\n",
              "  <tbody>\n",
              "    <tr>\n",
              "      <th>0</th>\n",
              "      <td>0.005051</td>\n",
              "      <td>0.0</td>\n",
              "      <td>0.545455</td>\n",
              "      <td>1.0</td>\n",
              "      <td>0.0</td>\n",
              "      <td>0.363636</td>\n",
              "      <td>0.500000</td>\n",
              "      <td>0.6875</td>\n",
              "      <td>1.000000</td>\n",
              "      <td>0.666667</td>\n",
              "    </tr>\n",
              "    <tr>\n",
              "      <th>1</th>\n",
              "      <td>0.129293</td>\n",
              "      <td>0.0</td>\n",
              "      <td>0.545455</td>\n",
              "      <td>1.0</td>\n",
              "      <td>0.0</td>\n",
              "      <td>0.363636</td>\n",
              "      <td>0.533333</td>\n",
              "      <td>0.2500</td>\n",
              "      <td>0.666667</td>\n",
              "      <td>0.333333</td>\n",
              "    </tr>\n",
              "    <tr>\n",
              "      <th>2</th>\n",
              "      <td>0.090909</td>\n",
              "      <td>0.0</td>\n",
              "      <td>0.545455</td>\n",
              "      <td>1.0</td>\n",
              "      <td>0.0</td>\n",
              "      <td>0.363636</td>\n",
              "      <td>0.533333</td>\n",
              "      <td>0.2500</td>\n",
              "      <td>0.666667</td>\n",
              "      <td>0.333333</td>\n",
              "    </tr>\n",
              "    <tr>\n",
              "      <th>3</th>\n",
              "      <td>1.000000</td>\n",
              "      <td>0.0</td>\n",
              "      <td>0.545455</td>\n",
              "      <td>1.0</td>\n",
              "      <td>0.0</td>\n",
              "      <td>0.363636</td>\n",
              "      <td>0.533333</td>\n",
              "      <td>0.2500</td>\n",
              "      <td>0.666667</td>\n",
              "      <td>0.333333</td>\n",
              "    </tr>\n",
              "    <tr>\n",
              "      <th>4</th>\n",
              "      <td>0.069697</td>\n",
              "      <td>0.0</td>\n",
              "      <td>0.545455</td>\n",
              "      <td>1.0</td>\n",
              "      <td>0.0</td>\n",
              "      <td>0.363636</td>\n",
              "      <td>0.533333</td>\n",
              "      <td>0.2500</td>\n",
              "      <td>0.666667</td>\n",
              "      <td>0.333333</td>\n",
              "    </tr>\n",
              "    <tr>\n",
              "      <th>...</th>\n",
              "      <td>...</td>\n",
              "      <td>...</td>\n",
              "      <td>...</td>\n",
              "      <td>...</td>\n",
              "      <td>...</td>\n",
              "      <td>...</td>\n",
              "      <td>...</td>\n",
              "      <td>...</td>\n",
              "      <td>...</td>\n",
              "      <td>...</td>\n",
              "    </tr>\n",
              "    <tr>\n",
              "      <th>1801730</th>\n",
              "      <td>0.081818</td>\n",
              "      <td>0.0</td>\n",
              "      <td>0.272727</td>\n",
              "      <td>1.0</td>\n",
              "      <td>1.0</td>\n",
              "      <td>0.545455</td>\n",
              "      <td>0.466667</td>\n",
              "      <td>0.1875</td>\n",
              "      <td>0.666667</td>\n",
              "      <td>0.333333</td>\n",
              "    </tr>\n",
              "    <tr>\n",
              "      <th>1801731</th>\n",
              "      <td>0.953535</td>\n",
              "      <td>1.0</td>\n",
              "      <td>0.181818</td>\n",
              "      <td>1.0</td>\n",
              "      <td>1.0</td>\n",
              "      <td>0.545455</td>\n",
              "      <td>0.466667</td>\n",
              "      <td>0.1875</td>\n",
              "      <td>0.666667</td>\n",
              "      <td>0.333333</td>\n",
              "    </tr>\n",
              "    <tr>\n",
              "      <th>1801732</th>\n",
              "      <td>0.973737</td>\n",
              "      <td>1.0</td>\n",
              "      <td>0.727273</td>\n",
              "      <td>1.0</td>\n",
              "      <td>1.0</td>\n",
              "      <td>0.545455</td>\n",
              "      <td>0.466667</td>\n",
              "      <td>0.1875</td>\n",
              "      <td>0.666667</td>\n",
              "      <td>0.333333</td>\n",
              "    </tr>\n",
              "    <tr>\n",
              "      <th>1801733</th>\n",
              "      <td>0.945455</td>\n",
              "      <td>1.0</td>\n",
              "      <td>0.545455</td>\n",
              "      <td>1.0</td>\n",
              "      <td>1.0</td>\n",
              "      <td>0.545455</td>\n",
              "      <td>0.466667</td>\n",
              "      <td>0.1875</td>\n",
              "      <td>0.666667</td>\n",
              "      <td>0.333333</td>\n",
              "    </tr>\n",
              "    <tr>\n",
              "      <th>1801734</th>\n",
              "      <td>0.058586</td>\n",
              "      <td>0.0</td>\n",
              "      <td>0.272727</td>\n",
              "      <td>1.0</td>\n",
              "      <td>1.0</td>\n",
              "      <td>0.545455</td>\n",
              "      <td>0.466667</td>\n",
              "      <td>0.1875</td>\n",
              "      <td>0.666667</td>\n",
              "      <td>0.333333</td>\n",
              "    </tr>\n",
              "  </tbody>\n",
              "</table>\n",
              "<p>1801735 rows × 10 columns</p>\n",
              "</div>"
            ],
            "text/plain": [
              "            Price  PaymentMethod      City  ...    hour   Weekday   session\n",
              "0        0.005051            0.0  0.545455  ...  0.6875  1.000000  0.666667\n",
              "1        0.129293            0.0  0.545455  ...  0.2500  0.666667  0.333333\n",
              "2        0.090909            0.0  0.545455  ...  0.2500  0.666667  0.333333\n",
              "3        1.000000            0.0  0.545455  ...  0.2500  0.666667  0.333333\n",
              "4        0.069697            0.0  0.545455  ...  0.2500  0.666667  0.333333\n",
              "...           ...            ...       ...  ...     ...       ...       ...\n",
              "1801730  0.081818            0.0  0.272727  ...  0.1875  0.666667  0.333333\n",
              "1801731  0.953535            1.0  0.181818  ...  0.1875  0.666667  0.333333\n",
              "1801732  0.973737            1.0  0.727273  ...  0.1875  0.666667  0.333333\n",
              "1801733  0.945455            1.0  0.545455  ...  0.1875  0.666667  0.333333\n",
              "1801734  0.058586            0.0  0.272727  ...  0.1875  0.666667  0.333333\n",
              "\n",
              "[1801735 rows x 10 columns]"
            ]
          },
          "metadata": {},
          "execution_count": 43
        }
      ]
    },
    {
      "cell_type": "code",
      "metadata": {
        "id": "ozpgj3m7peFs",
        "colab": {
          "base_uri": "https://localhost:8080/",
          "height": 465
        },
        "outputId": "eb497ae8-4482-47b4-d215-b2e6d07d24ae"
      },
      "source": [
        "#Método Elbow\n",
        "wcss = []\n",
        "for i in range(1, 11):\n",
        "    kmeans = KMeans(n_clusters = i, max_iter=300)\n",
        "    kmeans.fit(new_df)\n",
        "    print(i,kmeans.inertia_)\n",
        "    wcss.append(kmeans.inertia_)  \n",
        "plt.plot(range(1, 11), wcss)\n",
        "plt.title('O Metodo Elbow')\n",
        "plt.xlabel('Numero de Clusters')\n",
        "plt.ylabel('WSS') #within cluster sum of squares\n",
        "plt.show()"
      ],
      "execution_count": null,
      "outputs": [
        {
          "output_type": "stream",
          "text": [
            "1 1554187.9307308611\n",
            "2 1097104.1555633757\n",
            "3 992917.1333077652\n",
            "4 916028.0408085082\n",
            "5 858317.1694237376\n",
            "6 814481.3631872593\n",
            "7 774485.2026392561\n",
            "8 735408.1587192108\n",
            "9 717615.4664424334\n",
            "10 684678.2711567893\n"
          ],
          "name": "stdout"
        },
        {
          "output_type": "display_data",
          "data": {
            "image/png": "[encoded data removed]",
            "text/plain": [
              "<Figure size 432x288 with 1 Axes>"
            ]
          },
          "metadata": {
            "needs_background": "light"
          }
        }
      ]
    },
    {
      "cell_type": "code",
      "metadata": {
        "id": "nCwZD1JTr-EA",
        "colab": {
          "base_uri": "https://localhost:8080/"
        },
        "outputId": "35c6c2bd-5564-484b-b03a-a9a5094ee8b3"
      },
      "source": [
        "clustering = KMeans(n_clusters=3, max_iter=300)\n",
        "clustering.fit(new_df) #Aplica o KMeans para a base"
      ],
      "execution_count": null,
      "outputs": [
        {
          "output_type": "execute_result",
          "data": {
            "text/plain": [
              "KMeans(algorithm='auto', copy_x=True, init='k-means++', max_iter=300,\n",
              "       n_clusters=3, n_init=10, n_jobs=None, precompute_distances='auto',\n",
              "       random_state=None, tol=0.0001, verbose=0)"
            ]
          },
          "metadata": {},
          "execution_count": 45
        }
      ]
    },
    {
      "cell_type": "code",
      "metadata": {
        "id": "UYQFRqOhs-Nw",
        "colab": {
          "base_uri": "https://localhost:8080/",
          "height": 419
        },
        "outputId": "3ad8d585-73d9-4690-d1db-b036f4b545bd"
      },
      "source": [
        "new_df['Clusters'] = clustering.labels_ #Cria uma nova coluna de acordo com o cluster de cada registro\n",
        "new_df"
      ],
      "execution_count": null,
      "outputs": [
        {
          "output_type": "execute_result",
          "data": {
            "text/html": [
              "<div>\n",
              "<style scoped>\n",
              "    .dataframe tbody tr th:only-of-type {\n",
              "        vertical-align: middle;\n",
              "    }\n",
              "\n",
              "    .dataframe tbody tr th {\n",
              "        vertical-align: top;\n",
              "    }\n",
              "\n",
              "    .dataframe thead th {\n",
              "        text-align: right;\n",
              "    }\n",
              "</style>\n",
              "<table border=\"1\" class=\"dataframe\">\n",
              "  <thead>\n",
              "    <tr style=\"text-align: right;\">\n",
              "      <th></th>\n",
              "      <th>Price</th>\n",
              "      <th>PaymentMethod</th>\n",
              "      <th>City</th>\n",
              "      <th>State</th>\n",
              "      <th>year</th>\n",
              "      <th>month</th>\n",
              "      <th>day</th>\n",
              "      <th>hour</th>\n",
              "      <th>Weekday</th>\n",
              "      <th>session</th>\n",
              "      <th>Clusters</th>\n",
              "    </tr>\n",
              "  </thead>\n",
              "  <tbody>\n",
              "    <tr>\n",
              "      <th>0</th>\n",
              "      <td>0.005051</td>\n",
              "      <td>0.0</td>\n",
              "      <td>0.545455</td>\n",
              "      <td>1.0</td>\n",
              "      <td>0.0</td>\n",
              "      <td>0.363636</td>\n",
              "      <td>0.500000</td>\n",
              "      <td>0.6875</td>\n",
              "      <td>1.000000</td>\n",
              "      <td>0.666667</td>\n",
              "      <td>2</td>\n",
              "    </tr>\n",
              "    <tr>\n",
              "      <th>1</th>\n",
              "      <td>0.129293</td>\n",
              "      <td>0.0</td>\n",
              "      <td>0.545455</td>\n",
              "      <td>1.0</td>\n",
              "      <td>0.0</td>\n",
              "      <td>0.363636</td>\n",
              "      <td>0.533333</td>\n",
              "      <td>0.2500</td>\n",
              "      <td>0.666667</td>\n",
              "      <td>0.333333</td>\n",
              "      <td>2</td>\n",
              "    </tr>\n",
              "    <tr>\n",
              "      <th>2</th>\n",
              "      <td>0.090909</td>\n",
              "      <td>0.0</td>\n",
              "      <td>0.545455</td>\n",
              "      <td>1.0</td>\n",
              "      <td>0.0</td>\n",
              "      <td>0.363636</td>\n",
              "      <td>0.533333</td>\n",
              "      <td>0.2500</td>\n",
              "      <td>0.666667</td>\n",
              "      <td>0.333333</td>\n",
              "      <td>2</td>\n",
              "    </tr>\n",
              "    <tr>\n",
              "      <th>3</th>\n",
              "      <td>1.000000</td>\n",
              "      <td>0.0</td>\n",
              "      <td>0.545455</td>\n",
              "      <td>1.0</td>\n",
              "      <td>0.0</td>\n",
              "      <td>0.363636</td>\n",
              "      <td>0.533333</td>\n",
              "      <td>0.2500</td>\n",
              "      <td>0.666667</td>\n",
              "      <td>0.333333</td>\n",
              "      <td>2</td>\n",
              "    </tr>\n",
              "    <tr>\n",
              "      <th>4</th>\n",
              "      <td>0.069697</td>\n",
              "      <td>0.0</td>\n",
              "      <td>0.545455</td>\n",
              "      <td>1.0</td>\n",
              "      <td>0.0</td>\n",
              "      <td>0.363636</td>\n",
              "      <td>0.533333</td>\n",
              "      <td>0.2500</td>\n",
              "      <td>0.666667</td>\n",
              "      <td>0.333333</td>\n",
              "      <td>2</td>\n",
              "    </tr>\n",
              "    <tr>\n",
              "      <th>...</th>\n",
              "      <td>...</td>\n",
              "      <td>...</td>\n",
              "      <td>...</td>\n",
              "      <td>...</td>\n",
              "      <td>...</td>\n",
              "      <td>...</td>\n",
              "      <td>...</td>\n",
              "      <td>...</td>\n",
              "      <td>...</td>\n",
              "      <td>...</td>\n",
              "      <td>...</td>\n",
              "    </tr>\n",
              "    <tr>\n",
              "      <th>1801730</th>\n",
              "      <td>0.081818</td>\n",
              "      <td>0.0</td>\n",
              "      <td>0.272727</td>\n",
              "      <td>1.0</td>\n",
              "      <td>1.0</td>\n",
              "      <td>0.545455</td>\n",
              "      <td>0.466667</td>\n",
              "      <td>0.1875</td>\n",
              "      <td>0.666667</td>\n",
              "      <td>0.333333</td>\n",
              "      <td>1</td>\n",
              "    </tr>\n",
              "    <tr>\n",
              "      <th>1801731</th>\n",
              "      <td>0.953535</td>\n",
              "      <td>1.0</td>\n",
              "      <td>0.181818</td>\n",
              "      <td>1.0</td>\n",
              "      <td>1.0</td>\n",
              "      <td>0.545455</td>\n",
              "      <td>0.466667</td>\n",
              "      <td>0.1875</td>\n",
              "      <td>0.666667</td>\n",
              "      <td>0.333333</td>\n",
              "      <td>0</td>\n",
              "    </tr>\n",
              "    <tr>\n",
              "      <th>1801732</th>\n",
              "      <td>0.973737</td>\n",
              "      <td>1.0</td>\n",
              "      <td>0.727273</td>\n",
              "      <td>1.0</td>\n",
              "      <td>1.0</td>\n",
              "      <td>0.545455</td>\n",
              "      <td>0.466667</td>\n",
              "      <td>0.1875</td>\n",
              "      <td>0.666667</td>\n",
              "      <td>0.333333</td>\n",
              "      <td>0</td>\n",
              "    </tr>\n",
              "    <tr>\n",
              "      <th>1801733</th>\n",
              "      <td>0.945455</td>\n",
              "      <td>1.0</td>\n",
              "      <td>0.545455</td>\n",
              "      <td>1.0</td>\n",
              "      <td>1.0</td>\n",
              "      <td>0.545455</td>\n",
              "      <td>0.466667</td>\n",
              "      <td>0.1875</td>\n",
              "      <td>0.666667</td>\n",
              "      <td>0.333333</td>\n",
              "      <td>0</td>\n",
              "    </tr>\n",
              "    <tr>\n",
              "      <th>1801734</th>\n",
              "      <td>0.058586</td>\n",
              "      <td>0.0</td>\n",
              "      <td>0.272727</td>\n",
              "      <td>1.0</td>\n",
              "      <td>1.0</td>\n",
              "      <td>0.545455</td>\n",
              "      <td>0.466667</td>\n",
              "      <td>0.1875</td>\n",
              "      <td>0.666667</td>\n",
              "      <td>0.333333</td>\n",
              "      <td>1</td>\n",
              "    </tr>\n",
              "  </tbody>\n",
              "</table>\n",
              "<p>1801735 rows × 11 columns</p>\n",
              "</div>"
            ],
            "text/plain": [
              "            Price  PaymentMethod      City  ...   Weekday   session  Clusters\n",
              "0        0.005051            0.0  0.545455  ...  1.000000  0.666667         2\n",
              "1        0.129293            0.0  0.545455  ...  0.666667  0.333333         2\n",
              "2        0.090909            0.0  0.545455  ...  0.666667  0.333333         2\n",
              "3        1.000000            0.0  0.545455  ...  0.666667  0.333333         2\n",
              "4        0.069697            0.0  0.545455  ...  0.666667  0.333333         2\n",
              "...           ...            ...       ...  ...       ...       ...       ...\n",
              "1801730  0.081818            0.0  0.272727  ...  0.666667  0.333333         1\n",
              "1801731  0.953535            1.0  0.181818  ...  0.666667  0.333333         0\n",
              "1801732  0.973737            1.0  0.727273  ...  0.666667  0.333333         0\n",
              "1801733  0.945455            1.0  0.545455  ...  0.666667  0.333333         0\n",
              "1801734  0.058586            0.0  0.272727  ...  0.666667  0.333333         1\n",
              "\n",
              "[1801735 rows x 11 columns]"
            ]
          },
          "metadata": {},
          "execution_count": 46
        }
      ]
    },
    {
      "cell_type": "code",
      "metadata": {
        "id": "30yjyGkMtYx7",
        "colab": {
          "base_uri": "https://localhost:8080/",
          "height": 419
        },
        "outputId": "36029433-dda4-4709-dab6-c34018744b17"
      },
      "source": [
        "#Técnica de PCA para obter as principais variáveis\n",
        "#para entender melhor: https://towardsdatascience.com/pca-using-python-scikit-learn-e653f8989e60\n",
        "from sklearn.decomposition import PCA\n",
        "\n",
        "pca = PCA(n_components=2)\n",
        "pca_newdf = pca.fit_transform(new_df)\n",
        "pca_newdf\n",
        "pca_final = pd.DataFrame(data = pca_newdf, columns= ['Componente_1', 'Componente_2']) #Seta as duas principais variáveis a agrupar\n",
        "pca_final"
      ],
      "execution_count": null,
      "outputs": [
        {
          "output_type": "execute_result",
          "data": {
            "text/html": [
              "<div>\n",
              "<style scoped>\n",
              "    .dataframe tbody tr th:only-of-type {\n",
              "        vertical-align: middle;\n",
              "    }\n",
              "\n",
              "    .dataframe tbody tr th {\n",
              "        vertical-align: top;\n",
              "    }\n",
              "\n",
              "    .dataframe thead th {\n",
              "        text-align: right;\n",
              "    }\n",
              "</style>\n",
              "<table border=\"1\" class=\"dataframe\">\n",
              "  <thead>\n",
              "    <tr style=\"text-align: right;\">\n",
              "      <th></th>\n",
              "      <th>Componente_1</th>\n",
              "      <th>Componente_2</th>\n",
              "    </tr>\n",
              "  </thead>\n",
              "  <tbody>\n",
              "    <tr>\n",
              "      <th>0</th>\n",
              "      <td>1.286430</td>\n",
              "      <td>-0.113603</td>\n",
              "    </tr>\n",
              "    <tr>\n",
              "      <th>1</th>\n",
              "      <td>1.293022</td>\n",
              "      <td>-0.106181</td>\n",
              "    </tr>\n",
              "    <tr>\n",
              "      <th>2</th>\n",
              "      <td>1.293796</td>\n",
              "      <td>-0.106049</td>\n",
              "    </tr>\n",
              "    <tr>\n",
              "      <th>3</th>\n",
              "      <td>1.275483</td>\n",
              "      <td>-0.109175</td>\n",
              "    </tr>\n",
              "    <tr>\n",
              "      <th>4</th>\n",
              "      <td>1.294223</td>\n",
              "      <td>-0.105976</td>\n",
              "    </tr>\n",
              "    <tr>\n",
              "      <th>...</th>\n",
              "      <td>...</td>\n",
              "      <td>...</td>\n",
              "    </tr>\n",
              "    <tr>\n",
              "      <th>1801730</th>\n",
              "      <td>0.310634</td>\n",
              "      <td>0.314103</td>\n",
              "    </tr>\n",
              "    <tr>\n",
              "      <th>1801731</th>\n",
              "      <td>-1.049830</td>\n",
              "      <td>-0.014700</td>\n",
              "    </tr>\n",
              "    <tr>\n",
              "      <th>1801732</th>\n",
              "      <td>-1.039701</td>\n",
              "      <td>-0.093203</td>\n",
              "    </tr>\n",
              "    <tr>\n",
              "      <th>1801733</th>\n",
              "      <td>-1.042643</td>\n",
              "      <td>-0.066961</td>\n",
              "    </tr>\n",
              "    <tr>\n",
              "      <th>1801734</th>\n",
              "      <td>0.311102</td>\n",
              "      <td>0.314183</td>\n",
              "    </tr>\n",
              "  </tbody>\n",
              "</table>\n",
              "<p>1801735 rows × 2 columns</p>\n",
              "</div>"
            ],
            "text/plain": [
              "         Componente_1  Componente_2\n",
              "0            1.286430     -0.113603\n",
              "1            1.293022     -0.106181\n",
              "2            1.293796     -0.106049\n",
              "3            1.275483     -0.109175\n",
              "4            1.294223     -0.105976\n",
              "...               ...           ...\n",
              "1801730      0.310634      0.314103\n",
              "1801731     -1.049830     -0.014700\n",
              "1801732     -1.039701     -0.093203\n",
              "1801733     -1.042643     -0.066961\n",
              "1801734      0.311102      0.314183\n",
              "\n",
              "[1801735 rows x 2 columns]"
            ]
          },
          "metadata": {},
          "execution_count": 47
        }
      ]
    },
    {
      "cell_type": "code",
      "metadata": {
        "id": "RTb6R3rkv7lJ",
        "colab": {
          "base_uri": "https://localhost:8080/",
          "height": 419
        },
        "outputId": "48b00134-ce55-4041-ec47-8db83145a7f9"
      },
      "source": [
        "pca_df_final = pd.concat([pca_final, new_df[['Clusters']]], axis=1) # Concatena o pca_final com a coluna de Clusters do new_df\n",
        "pca_df_final"
      ],
      "execution_count": null,
      "outputs": [
        {
          "output_type": "execute_result",
          "data": {
            "text/html": [
              "<div>\n",
              "<style scoped>\n",
              "    .dataframe tbody tr th:only-of-type {\n",
              "        vertical-align: middle;\n",
              "    }\n",
              "\n",
              "    .dataframe tbody tr th {\n",
              "        vertical-align: top;\n",
              "    }\n",
              "\n",
              "    .dataframe thead th {\n",
              "        text-align: right;\n",
              "    }\n",
              "</style>\n",
              "<table border=\"1\" class=\"dataframe\">\n",
              "  <thead>\n",
              "    <tr style=\"text-align: right;\">\n",
              "      <th></th>\n",
              "      <th>Componente_1</th>\n",
              "      <th>Componente_2</th>\n",
              "      <th>Clusters</th>\n",
              "    </tr>\n",
              "  </thead>\n",
              "  <tbody>\n",
              "    <tr>\n",
              "      <th>0</th>\n",
              "      <td>1.286430</td>\n",
              "      <td>-0.113603</td>\n",
              "      <td>2</td>\n",
              "    </tr>\n",
              "    <tr>\n",
              "      <th>1</th>\n",
              "      <td>1.293022</td>\n",
              "      <td>-0.106181</td>\n",
              "      <td>2</td>\n",
              "    </tr>\n",
              "    <tr>\n",
              "      <th>2</th>\n",
              "      <td>1.293796</td>\n",
              "      <td>-0.106049</td>\n",
              "      <td>2</td>\n",
              "    </tr>\n",
              "    <tr>\n",
              "      <th>3</th>\n",
              "      <td>1.275483</td>\n",
              "      <td>-0.109175</td>\n",
              "      <td>2</td>\n",
              "    </tr>\n",
              "    <tr>\n",
              "      <th>4</th>\n",
              "      <td>1.294223</td>\n",
              "      <td>-0.105976</td>\n",
              "      <td>2</td>\n",
              "    </tr>\n",
              "    <tr>\n",
              "      <th>...</th>\n",
              "      <td>...</td>\n",
              "      <td>...</td>\n",
              "      <td>...</td>\n",
              "    </tr>\n",
              "    <tr>\n",
              "      <th>1801730</th>\n",
              "      <td>0.310634</td>\n",
              "      <td>0.314103</td>\n",
              "      <td>1</td>\n",
              "    </tr>\n",
              "    <tr>\n",
              "      <th>1801731</th>\n",
              "      <td>-1.049830</td>\n",
              "      <td>-0.014700</td>\n",
              "      <td>0</td>\n",
              "    </tr>\n",
              "    <tr>\n",
              "      <th>1801732</th>\n",
              "      <td>-1.039701</td>\n",
              "      <td>-0.093203</td>\n",
              "      <td>0</td>\n",
              "    </tr>\n",
              "    <tr>\n",
              "      <th>1801733</th>\n",
              "      <td>-1.042643</td>\n",
              "      <td>-0.066961</td>\n",
              "      <td>0</td>\n",
              "    </tr>\n",
              "    <tr>\n",
              "      <th>1801734</th>\n",
              "      <td>0.311102</td>\n",
              "      <td>0.314183</td>\n",
              "      <td>1</td>\n",
              "    </tr>\n",
              "  </tbody>\n",
              "</table>\n",
              "<p>1801735 rows × 3 columns</p>\n",
              "</div>"
            ],
            "text/plain": [
              "         Componente_1  Componente_2  Clusters\n",
              "0            1.286430     -0.113603         2\n",
              "1            1.293022     -0.106181         2\n",
              "2            1.293796     -0.106049         2\n",
              "3            1.275483     -0.109175         2\n",
              "4            1.294223     -0.105976         2\n",
              "...               ...           ...       ...\n",
              "1801730      0.310634      0.314103         1\n",
              "1801731     -1.049830     -0.014700         0\n",
              "1801732     -1.039701     -0.093203         0\n",
              "1801733     -1.042643     -0.066961         0\n",
              "1801734      0.311102      0.314183         1\n",
              "\n",
              "[1801735 rows x 3 columns]"
            ]
          },
          "metadata": {},
          "execution_count": 48
        }
      ]
    },
    {
      "cell_type": "code",
      "metadata": {
        "id": "sRtEnv_YxBPg",
        "colab": {
          "base_uri": "https://localhost:8080/",
          "height": 414
        },
        "outputId": "9a6a886c-ba7e-4aeb-fad1-7320ea1f3527"
      },
      "source": [
        "fig = plt.figure(figsize= (6,6))\n",
        "\n",
        "ax = fig.add_subplot(1,1,1)\n",
        "ax.set_xlabel('Componente 1', fontsize = 15)\n",
        "ax.set_ylabel('Componente 2', fontsize = 15)\n",
        "ax.set_title('Componentes principais', fontsize = 20)\n",
        "\n",
        "targets = [0, 1, 2]\n",
        "colors = ['r', 'g', 'b']\n",
        "for target, color in zip(targets,colors):\n",
        "    indicesToKeep = pca_df_final['Clusters'] == target\n",
        "    ax.scatter(pca_df_final.loc[indicesToKeep, 'Componente_1']\n",
        "               , pca_df_final.loc[indicesToKeep, 'Componente_2']\n",
        "               , c = color\n",
        "               , s = 50)\n",
        "ax.legend(targets)\n",
        "ax.grid()\n",
        "plt.show()"
      ],
      "execution_count": null,
      "outputs": [
        {
          "output_type": "display_data",
          "data": {
            "image/png": "[encoded data removed]",
            "text/plain": [
              "<Figure size 432x432 with 1 Axes>"
            ]
          },
          "metadata": {
            "needs_background": "light"
          }
        }
      ]
    },
    {
      "cell_type": "markdown",
      "metadata": {
        "id": "Zg2XBqHJpe28"
      },
      "source": [
        "## **K-Means utilizando apenas a relação Preço x Recorrência:  Agrupando em faixas de valores**"
      ]
    },
    {
      "cell_type": "code",
      "metadata": {
        "id": "xhJJ-Uvph8ol",
        "colab": {
          "base_uri": "https://localhost:8080/"
        },
        "outputId": "5712fca3-2197-47f9-e120-14990085cf5f"
      },
      "source": [
        "novo = pd.DataFrame({'Price': df['Price'].value_counts().keys(), 'Qtd': df['Price'].value_counts().values})\n",
        "novo"
      ],
      "execution_count": null,
      "outputs": [
        {
          "output_type": "execute_result",
          "data": {
            "text/html": [
              "<div>\n",
              "<style scoped>\n",
              "    .dataframe tbody tr th:only-of-type {\n",
              "        vertical-align: middle;\n",
              "    }\n",
              "\n",
              "    .dataframe tbody tr th {\n",
              "        vertical-align: top;\n",
              "    }\n",
              "\n",
              "    .dataframe thead th {\n",
              "        text-align: right;\n",
              "    }\n",
              "</style>\n",
              "<table border=\"1\" class=\"dataframe\">\n",
              "  <thead>\n",
              "    <tr style=\"text-align: right;\">\n",
              "      <th></th>\n",
              "      <th>Price</th>\n",
              "      <th>Qtd</th>\n",
              "    </tr>\n",
              "  </thead>\n",
              "  <tbody>\n",
              "    <tr>\n",
              "      <th>0</th>\n",
              "      <td>1.00</td>\n",
              "      <td>30304</td>\n",
              "    </tr>\n",
              "    <tr>\n",
              "      <th>1</th>\n",
              "      <td>1.01</td>\n",
              "      <td>24811</td>\n",
              "    </tr>\n",
              "    <tr>\n",
              "      <th>2</th>\n",
              "      <td>1.02</td>\n",
              "      <td>23156</td>\n",
              "    </tr>\n",
              "    <tr>\n",
              "      <th>3</th>\n",
              "      <td>1.10</td>\n",
              "      <td>19621</td>\n",
              "    </tr>\n",
              "    <tr>\n",
              "      <th>4</th>\n",
              "      <td>1.05</td>\n",
              "      <td>18720</td>\n",
              "    </tr>\n",
              "    <tr>\n",
              "      <th>...</th>\n",
              "      <td>...</td>\n",
              "      <td>...</td>\n",
              "    </tr>\n",
              "    <tr>\n",
              "      <th>984</th>\n",
              "      <td>8.67</td>\n",
              "      <td>2</td>\n",
              "    </tr>\n",
              "    <tr>\n",
              "      <th>985</th>\n",
              "      <td>7.19</td>\n",
              "      <td>1</td>\n",
              "    </tr>\n",
              "    <tr>\n",
              "      <th>986</th>\n",
              "      <td>8.44</td>\n",
              "      <td>1</td>\n",
              "    </tr>\n",
              "    <tr>\n",
              "      <th>987</th>\n",
              "      <td>7.66</td>\n",
              "      <td>1</td>\n",
              "    </tr>\n",
              "    <tr>\n",
              "      <th>988</th>\n",
              "      <td>7.97</td>\n",
              "      <td>1</td>\n",
              "    </tr>\n",
              "  </tbody>\n",
              "</table>\n",
              "<p>989 rows × 2 columns</p>\n",
              "</div>"
            ],
            "text/plain": [
              "     Price    Qtd\n",
              "0     1.00  30304\n",
              "1     1.01  24811\n",
              "2     1.02  23156\n",
              "3     1.10  19621\n",
              "4     1.05  18720\n",
              "..     ...    ...\n",
              "984   8.67      2\n",
              "985   7.19      1\n",
              "986   8.44      1\n",
              "987   7.66      1\n",
              "988   7.97      1\n",
              "\n",
              "[989 rows x 2 columns]"
            ]
          },
          "metadata": {},
          "execution_count": 50
        }
      ]
    },
    {
      "cell_type": "code",
      "metadata": {
        "id": "DQlmtvsakBxe",
        "colab": {
          "base_uri": "https://localhost:8080/"
        },
        "outputId": "bbde881e-5c08-4ad4-a347-e3491cbb1e36"
      },
      "source": [
        "wcss = []\n",
        "for i in range(1, 11):\n",
        "    kmeans = KMeans(n_clusters = i, init = 'random')\n",
        "    kmeans.fit(novo)\n",
        "    print(i,kmeans.inertia_)\n",
        "    wcss.append(kmeans.inertia_)  \n",
        "plt.plot(range(1, 11), wcss)\n",
        "plt.title('O Metodo Elbow')\n",
        "plt.xlabel('Numero de Clusters')\n",
        "plt.ylabel('WSS') #within cluster sum of squares\n",
        "plt.show()"
      ],
      "execution_count": null,
      "outputs": [
        {
          "output_type": "stream",
          "text": [
            "1 19103753873.015697\n",
            "2 1860318441.7301517\n",
            "3 951889864.5006932\n",
            "4 943294695.9571286\n",
            "5 378899854.9141609\n",
            "6 373027697.4309408\n",
            "7 342102392.0919703\n",
            "8 341669416.21496767\n",
            "9 341607423.3521217\n",
            "10 187501000.3236152\n"
          ],
          "name": "stdout"
        },
        {
          "output_type": "display_data",
          "data": {
            "image/png": "[encoded data removed]",
            "text/plain": [
              "<Figure size 432x288 with 1 Axes>"
            ]
          },
          "metadata": {
            "needs_background": "light"
          }
        }
      ]
    },
    {
      "cell_type": "code",
      "metadata": {
        "id": "5Itz_q-zkGkD",
        "colab": {
          "base_uri": "https://localhost:8080/"
        },
        "outputId": "6e9b8083-57d5-44cc-dbfe-382516c2dbd1"
      },
      "source": [
        "clustering = KMeans(n_clusters=3, max_iter=300)\n",
        "clustering.fit(novo) #Aplica o KMeans para a base"
      ],
      "execution_count": null,
      "outputs": [
        {
          "output_type": "execute_result",
          "data": {
            "text/plain": [
              "KMeans(algorithm='auto', copy_x=True, init='k-means++', max_iter=300,\n",
              "       n_clusters=3, n_init=10, n_jobs=None, precompute_distances='auto',\n",
              "       random_state=None, tol=0.0001, verbose=0)"
            ]
          },
          "metadata": {},
          "execution_count": 52
        }
      ]
    },
    {
      "cell_type": "code",
      "metadata": {
        "id": "emd0B243kON4",
        "colab": {
          "base_uri": "https://localhost:8080/"
        },
        "outputId": "0f7cb007-c11e-4277-d670-f237882cc372"
      },
      "source": [
        "novo['Cluster'] = clustering.labels_\n",
        "novo"
      ],
      "execution_count": null,
      "outputs": [
        {
          "output_type": "execute_result",
          "data": {
            "text/html": [
              "<div>\n",
              "<style scoped>\n",
              "    .dataframe tbody tr th:only-of-type {\n",
              "        vertical-align: middle;\n",
              "    }\n",
              "\n",
              "    .dataframe tbody tr th {\n",
              "        vertical-align: top;\n",
              "    }\n",
              "\n",
              "    .dataframe thead th {\n",
              "        text-align: right;\n",
              "    }\n",
              "</style>\n",
              "<table border=\"1\" class=\"dataframe\">\n",
              "  <thead>\n",
              "    <tr style=\"text-align: right;\">\n",
              "      <th></th>\n",
              "      <th>Price</th>\n",
              "      <th>Qtd</th>\n",
              "      <th>Cluster</th>\n",
              "    </tr>\n",
              "  </thead>\n",
              "  <tbody>\n",
              "    <tr>\n",
              "      <th>0</th>\n",
              "      <td>1.00</td>\n",
              "      <td>30304</td>\n",
              "      <td>1</td>\n",
              "    </tr>\n",
              "    <tr>\n",
              "      <th>1</th>\n",
              "      <td>1.01</td>\n",
              "      <td>24811</td>\n",
              "      <td>1</td>\n",
              "    </tr>\n",
              "    <tr>\n",
              "      <th>2</th>\n",
              "      <td>1.02</td>\n",
              "      <td>23156</td>\n",
              "      <td>1</td>\n",
              "    </tr>\n",
              "    <tr>\n",
              "      <th>3</th>\n",
              "      <td>1.10</td>\n",
              "      <td>19621</td>\n",
              "      <td>1</td>\n",
              "    </tr>\n",
              "    <tr>\n",
              "      <th>4</th>\n",
              "      <td>1.05</td>\n",
              "      <td>18720</td>\n",
              "      <td>1</td>\n",
              "    </tr>\n",
              "    <tr>\n",
              "      <th>...</th>\n",
              "      <td>...</td>\n",
              "      <td>...</td>\n",
              "      <td>...</td>\n",
              "    </tr>\n",
              "    <tr>\n",
              "      <th>984</th>\n",
              "      <td>8.67</td>\n",
              "      <td>2</td>\n",
              "      <td>0</td>\n",
              "    </tr>\n",
              "    <tr>\n",
              "      <th>985</th>\n",
              "      <td>7.19</td>\n",
              "      <td>1</td>\n",
              "      <td>0</td>\n",
              "    </tr>\n",
              "    <tr>\n",
              "      <th>986</th>\n",
              "      <td>8.44</td>\n",
              "      <td>1</td>\n",
              "      <td>0</td>\n",
              "    </tr>\n",
              "    <tr>\n",
              "      <th>987</th>\n",
              "      <td>7.66</td>\n",
              "      <td>1</td>\n",
              "      <td>0</td>\n",
              "    </tr>\n",
              "    <tr>\n",
              "      <th>988</th>\n",
              "      <td>7.97</td>\n",
              "      <td>1</td>\n",
              "      <td>0</td>\n",
              "    </tr>\n",
              "  </tbody>\n",
              "</table>\n",
              "<p>989 rows × 3 columns</p>\n",
              "</div>"
            ],
            "text/plain": [
              "     Price    Qtd  Cluster\n",
              "0     1.00  30304        1\n",
              "1     1.01  24811        1\n",
              "2     1.02  23156        1\n",
              "3     1.10  19621        1\n",
              "4     1.05  18720        1\n",
              "..     ...    ...      ...\n",
              "984   8.67      2        0\n",
              "985   7.19      1        0\n",
              "986   8.44      1        0\n",
              "987   7.66      1        0\n",
              "988   7.97      1        0\n",
              "\n",
              "[989 rows x 3 columns]"
            ]
          },
          "metadata": {},
          "execution_count": 53
        }
      ]
    },
    {
      "cell_type": "code",
      "metadata": {
        "id": "rkCvpsjqqASG",
        "colab": {
          "base_uri": "https://localhost:8080/"
        },
        "outputId": "5f274482-6efc-4f33-989e-e3bba30f5f76"
      },
      "source": [
        "centroides = clustering.cluster_centers_\n",
        "centroides"
      ],
      "execution_count": null,
      "outputs": [
        {
          "output_type": "execute_result",
          "data": {
            "text/plain": [
              "array([[5.96471910e+00, 6.63970037e+01],\n",
              "       [1.48627451e+00, 1.41149706e+04],\n",
              "       [6.87325581e-01, 3.59097674e+03]])"
            ]
          },
          "metadata": {},
          "execution_count": 54
        }
      ]
    },
    {
      "cell_type": "code",
      "metadata": {
        "id": "bUkTzgb0kliX",
        "colab": {
          "base_uri": "https://localhost:8080/"
        },
        "outputId": "b6c258bf-d76d-4185-8f53-149ba7a68077"
      },
      "source": [
        "plt.scatter(novo.loc[novo['Cluster'] == 0, ['Price']], novo.loc[novo['Cluster'] == 0, ['Qtd']], s=50, c='orange', label='Faixa1')\n",
        "plt.scatter(novo.loc[novo['Cluster'] == 1, ['Price']], novo.loc[novo['Cluster'] == 1, ['Qtd']], s=50, c='blue', label='Faixa1')\n",
        "plt.scatter(novo.loc[novo['Cluster'] == 2, ['Price']], novo.loc[novo['Cluster'] == 2, ['Qtd']], s=50, c='red', label='Faixa1')\n",
        "plt.scatter(centroides[:,0],centroides[:,1], s = 200, c = 'black', label='Centroides') #posição de cada centroide no gráfico\n",
        "plt.title('K-means relação preço-recorrência')\n",
        "plt.xlabel('Preço')\n",
        "plt.ylabel('Quantidade')\n",
        "plt.legend()\n",
        "plt.show()"
      ],
      "execution_count": null,
      "outputs": [
        {
          "output_type": "display_data",
          "data": {
            "image/png": "[encoded data removed]",
            "text/plain": [
              "<Figure size 432x288 with 1 Axes>"
            ]
          },
          "metadata": {
            "needs_background": "light"
          }
        }
      ]
    },
    {
      "cell_type": "markdown",
      "metadata": {
        "id": "BXNNxCxjXq5G"
      },
      "source": [
        "## **DBSCAN**"
      ]
    },
    {
      "cell_type": "code",
      "metadata": {
        "colab": {
          "base_uri": "https://localhost:8080/"
        },
        "id": "8j5gL4EHaTBy",
        "outputId": "27b2a2a0-7001-4cc6-c3f4-4cdf89325df4"
      },
      "source": [
        "# EPS: é a distância máxima entre dois pontos pra que sejam considerados vizinhos |\n",
        "# min_samples: quantidade de amostras em uma vizinhança pra um ponto ser considerado um ponto central \n",
        "db = DBSCAN(eps=1.2, min_samples=7)\n",
        "db.fit(df[:10000])\n",
        "db"
      ],
      "execution_count": null,
      "outputs": [
        {
          "output_type": "execute_result",
          "data": {
            "text/plain": [
              "DBSCAN(algorithm='auto', eps=1.2, leaf_size=30, metric='euclidean',\n",
              "       metric_params=None, min_samples=7, n_jobs=None, p=None)"
            ]
          },
          "metadata": {},
          "execution_count": 56
        }
      ]
    },
    {
      "cell_type": "code",
      "metadata": {
        "id": "vNpkmM6Sx3GK"
      },
      "source": [
        "labels = db.labels_"
      ],
      "execution_count": null,
      "outputs": []
    },
    {
      "cell_type": "code",
      "metadata": {
        "colab": {
          "base_uri": "https://localhost:8080/"
        },
        "id": "dWzN3zP7yRxI",
        "outputId": "0b22bbe5-27db-4d55-fed7-e5a2b50358c1"
      },
      "source": [
        "n_clusters_ = len(set(labels)) - (1 if -1 in labels else 0)\n",
        "n_noise_ = list(labels).count(-1)\n",
        "\n",
        "print('Estimated number of clusters: %d' % n_clusters_)\n",
        "# n_noise representa a quantidade de amostras ruidosas: amostras ruidosas são pontos que não se enquadram em nenhum cluster\n",
        "print('Estimated number of noise points: %d' % n_noise_)\n",
        "# Coeficiente que mede a distância média entre uma amostra e um cluster ao qual ela não pertence\n",
        "# O índice de Silhouette varia entre -1 e 1\n",
        "#Índice de Silhouette: Valores próximos a 0 indicam clusters sobrepostos\n",
        "print(\"Silhouette Coefficient: %0.3f\"\n",
        "      % metrics.silhouette_score(df[:10000], labels))"
      ],
      "execution_count": null,
      "outputs": [
        {
          "output_type": "stream",
          "text": [
            "Estimated number of clusters: 124\n",
            "Estimated number of noise points: 321\n",
            "Silhouette Coefficient: 0.243\n"
          ],
          "name": "stdout"
        }
      ]
    },
    {
      "cell_type": "code",
      "metadata": {
        "id": "2lAt_kvevgrN"
      },
      "source": [
        "#Lista de labels\n",
        "unique_labels = list(set(labels))\n",
        "\n",
        "#lista de quantidade de label\n",
        "l = []\n",
        "labels = list(labels)\n",
        "for i in unique_labels: \n",
        "  l.append(labels.count(i))"
      ],
      "execution_count": null,
      "outputs": []
    },
    {
      "cell_type": "code",
      "metadata": {
        "colab": {
          "base_uri": "https://localhost:8080/"
        },
        "id": "Xlk6GP5EwjIF",
        "outputId": "3e242ed6-c3e2-48a1-d77c-b712ca777e5a"
      },
      "source": [
        "# GRÁFICO #\n",
        "plt.bar(unique_labels, l)\n",
        "plt.show()"
      ],
      "execution_count": null,
      "outputs": [
        {
          "output_type": "display_data",
          "data": {
            "image/png": "[encoded data removed]",
            "text/plain": [
              "<Figure size 432x288 with 1 Axes>"
            ]
          },
          "metadata": {
            "needs_background": "light"
          }
        }
      ]
    }
  ]
}