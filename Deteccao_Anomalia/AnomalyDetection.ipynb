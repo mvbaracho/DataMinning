{
  "nbformat": 4,
  "nbformat_minor": 0,
  "metadata": {
    "colab": {
      "name": "AnomalyDetection.ipynb",
      "provenance": [],
      "collapsed_sections": [],
      "include_colab_link": true
    },
    "kernelspec": {
      "name": "python3",
      "display_name": "Python 3"
    },
    "language_info": {
      "name": "python"
    }
  },
  "cells": [
    {
      "cell_type": "markdown",
      "metadata": {
        "id": "view-in-github",
        "colab_type": "text"
      },
      "source": [
        "<a href=\"https://colab.research.google.com/github/mvbaracho/DataMinning/blob/main/Deteccao_Anomalia/AnomalyDetection.ipynb\" target=\"_parent\"><img src=\"https://colab.research.google.com/assets/colab-badge.svg\" alt=\"Open In Colab\"/></a>"
      ]
    },
    {
      "cell_type": "markdown",
      "metadata": {
        "id": "8WztLYLB0GVq"
      },
      "source": [
        "# Setup"
      ]
    },
    {
      "cell_type": "code",
      "metadata": {
        "id": "oCb2bDwfts8o"
      },
      "source": [
        "#BIBLIOTECAS\n",
        "\n",
        "import numpy as np\n",
        "import datetime as dt\n",
        "import matplotlib.pyplot as plt\n",
        "from matplotlib.ticker import PercentFormatter\n",
        "import pandas as pd\n",
        "import seaborn as sns\n",
        "import statistics\n",
        "import datetime as dt\n",
        "import calendar\n",
        "from pydrive.auth import GoogleAuth\n",
        "from pydrive.drive import GoogleDrive\n",
        "from google.colab import auth\n",
        "from oauth2client.client import GoogleCredentials\n",
        "from sklearn import preprocessing\n",
        "\n",
        "%matplotlib inline\n",
        "# IMPORTAÇÃO DB\n",
        "\n",
        "\n",
        "auth.authenticate_user()\n",
        "gauth = GoogleAuth()\n",
        "gauth.credentials = GoogleCredentials.get_application_default()\n",
        "drive = GoogleDrive(gauth)\n",
        "\n",
        "downloaded = drive.CreateFile({'id':\"138bRT5WPXfCdZj2fS_sMars4NlaQr75y\"})\n",
        "downloaded.GetContentFile('Sales2.csv')"
      ],
      "execution_count": null,
      "outputs": []
    },
    {
      "cell_type": "markdown",
      "metadata": {
        "id": "z3EmxNck0MQk"
      },
      "source": [
        "# Carregamento da Base de dados"
      ]
    },
    {
      "cell_type": "code",
      "metadata": {
        "colab": {
          "base_uri": "https://localhost:8080/",
          "height": 206
        },
        "id": "rRg0bUMyuxh-",
        "outputId": "8dbe3283-b2ee-4e66-be27-835813dc7e96"
      },
      "source": [
        "# CARREGANDO DB\n",
        "df = pd.read_csv('Sales2.csv', sep=';', na_values='?')\n",
        "df.head()"
      ],
      "execution_count": null,
      "outputs": [
        {
          "output_type": "execute_result",
          "data": {
            "text/html": [
              "<div>\n",
              "<style scoped>\n",
              "    .dataframe tbody tr th:only-of-type {\n",
              "        vertical-align: middle;\n",
              "    }\n",
              "\n",
              "    .dataframe tbody tr th {\n",
              "        vertical-align: top;\n",
              "    }\n",
              "\n",
              "    .dataframe thead th {\n",
              "        text-align: right;\n",
              "    }\n",
              "</style>\n",
              "<table border=\"1\" class=\"dataframe\">\n",
              "  <thead>\n",
              "    <tr style=\"text-align: right;\">\n",
              "      <th></th>\n",
              "      <th>Retailer</th>\n",
              "      <th>Pdv</th>\n",
              "      <th>Price</th>\n",
              "      <th>PaymentMethod</th>\n",
              "      <th>Timestamp</th>\n",
              "      <th>City</th>\n",
              "      <th>State</th>\n",
              "    </tr>\n",
              "  </thead>\n",
              "  <tbody>\n",
              "    <tr>\n",
              "      <th>0</th>\n",
              "      <td>536329</td>\n",
              "      <td>137</td>\n",
              "      <td>0.15</td>\n",
              "      <td>1</td>\n",
              "      <td>2018-05-16 17:30:23.000</td>\n",
              "      <td>Pereira Barreto</td>\n",
              "      <td>SP</td>\n",
              "    </tr>\n",
              "    <tr>\n",
              "      <th>1</th>\n",
              "      <td>536329</td>\n",
              "      <td>136</td>\n",
              "      <td>1.38</td>\n",
              "      <td>1</td>\n",
              "      <td>2018-05-17 10:21:36.000</td>\n",
              "      <td>Pereira Barreto</td>\n",
              "      <td>SP</td>\n",
              "    </tr>\n",
              "    <tr>\n",
              "      <th>2</th>\n",
              "      <td>536329</td>\n",
              "      <td>135</td>\n",
              "      <td>1.00</td>\n",
              "      <td>1</td>\n",
              "      <td>2018-05-17 10:23:59.000</td>\n",
              "      <td>Pereira Barreto</td>\n",
              "      <td>SP</td>\n",
              "    </tr>\n",
              "    <tr>\n",
              "      <th>3</th>\n",
              "      <td>536329</td>\n",
              "      <td>135</td>\n",
              "      <td>10.00</td>\n",
              "      <td>1</td>\n",
              "      <td>2018-05-17 10:29:24.000</td>\n",
              "      <td>Pereira Barreto</td>\n",
              "      <td>SP</td>\n",
              "    </tr>\n",
              "    <tr>\n",
              "      <th>4</th>\n",
              "      <td>536329</td>\n",
              "      <td>136</td>\n",
              "      <td>0.79</td>\n",
              "      <td>1</td>\n",
              "      <td>2018-05-17 10:32:20.000</td>\n",
              "      <td>Pereira Barreto</td>\n",
              "      <td>SP</td>\n",
              "    </tr>\n",
              "  </tbody>\n",
              "</table>\n",
              "</div>"
            ],
            "text/plain": [
              "   Retailer  Pdv  Price  ...                Timestamp             City State\n",
              "0    536329  137   0.15  ...  2018-05-16 17:30:23.000  Pereira Barreto    SP\n",
              "1    536329  136   1.38  ...  2018-05-17 10:21:36.000  Pereira Barreto    SP\n",
              "2    536329  135   1.00  ...  2018-05-17 10:23:59.000  Pereira Barreto    SP\n",
              "3    536329  135  10.00  ...  2018-05-17 10:29:24.000  Pereira Barreto    SP\n",
              "4    536329  136   0.79  ...  2018-05-17 10:32:20.000  Pereira Barreto    SP\n",
              "\n",
              "[5 rows x 7 columns]"
            ]
          },
          "metadata": {},
          "execution_count": 192
        }
      ]
    },
    {
      "cell_type": "markdown",
      "metadata": {
        "id": "1JDQhCoB6ft1"
      },
      "source": [
        "## Pré-processamento"
      ]
    },
    {
      "cell_type": "code",
      "metadata": {
        "colab": {
          "base_uri": "https://localhost:8080/",
          "height": 423
        },
        "id": "hxl3nRFjKkr5",
        "outputId": "435a2827-ad35-418c-b54c-7be137c2435a"
      },
      "source": [
        "# Trata a coluna Timestamp e insere a coluna Weekday necessária para realizar os próximos cálculos\n",
        "df['Timestamp']= pd.to_datetime(df['Timestamp'],format='%Y-%m-%d')\n",
        "df['Weekday'] = df['Timestamp'].dt.day_name()\n",
        "df"
      ],
      "execution_count": null,
      "outputs": [
        {
          "output_type": "execute_result",
          "data": {
            "text/html": [
              "<div>\n",
              "<style scoped>\n",
              "    .dataframe tbody tr th:only-of-type {\n",
              "        vertical-align: middle;\n",
              "    }\n",
              "\n",
              "    .dataframe tbody tr th {\n",
              "        vertical-align: top;\n",
              "    }\n",
              "\n",
              "    .dataframe thead th {\n",
              "        text-align: right;\n",
              "    }\n",
              "</style>\n",
              "<table border=\"1\" class=\"dataframe\">\n",
              "  <thead>\n",
              "    <tr style=\"text-align: right;\">\n",
              "      <th></th>\n",
              "      <th>Retailer</th>\n",
              "      <th>Pdv</th>\n",
              "      <th>Price</th>\n",
              "      <th>PaymentMethod</th>\n",
              "      <th>Timestamp</th>\n",
              "      <th>City</th>\n",
              "      <th>State</th>\n",
              "      <th>Weekday</th>\n",
              "    </tr>\n",
              "  </thead>\n",
              "  <tbody>\n",
              "    <tr>\n",
              "      <th>0</th>\n",
              "      <td>536329</td>\n",
              "      <td>137</td>\n",
              "      <td>0.15</td>\n",
              "      <td>1</td>\n",
              "      <td>2018-05-16 17:30:23</td>\n",
              "      <td>Pereira Barreto</td>\n",
              "      <td>SP</td>\n",
              "      <td>Wednesday</td>\n",
              "    </tr>\n",
              "    <tr>\n",
              "      <th>1</th>\n",
              "      <td>536329</td>\n",
              "      <td>136</td>\n",
              "      <td>1.38</td>\n",
              "      <td>1</td>\n",
              "      <td>2018-05-17 10:21:36</td>\n",
              "      <td>Pereira Barreto</td>\n",
              "      <td>SP</td>\n",
              "      <td>Thursday</td>\n",
              "    </tr>\n",
              "    <tr>\n",
              "      <th>2</th>\n",
              "      <td>536329</td>\n",
              "      <td>135</td>\n",
              "      <td>1.00</td>\n",
              "      <td>1</td>\n",
              "      <td>2018-05-17 10:23:59</td>\n",
              "      <td>Pereira Barreto</td>\n",
              "      <td>SP</td>\n",
              "      <td>Thursday</td>\n",
              "    </tr>\n",
              "    <tr>\n",
              "      <th>3</th>\n",
              "      <td>536329</td>\n",
              "      <td>135</td>\n",
              "      <td>10.00</td>\n",
              "      <td>1</td>\n",
              "      <td>2018-05-17 10:29:24</td>\n",
              "      <td>Pereira Barreto</td>\n",
              "      <td>SP</td>\n",
              "      <td>Thursday</td>\n",
              "    </tr>\n",
              "    <tr>\n",
              "      <th>4</th>\n",
              "      <td>536329</td>\n",
              "      <td>136</td>\n",
              "      <td>0.79</td>\n",
              "      <td>1</td>\n",
              "      <td>2018-05-17 10:32:20</td>\n",
              "      <td>Pereira Barreto</td>\n",
              "      <td>SP</td>\n",
              "      <td>Thursday</td>\n",
              "    </tr>\n",
              "    <tr>\n",
              "      <th>...</th>\n",
              "      <td>...</td>\n",
              "      <td>...</td>\n",
              "      <td>...</td>\n",
              "      <td>...</td>\n",
              "      <td>...</td>\n",
              "      <td>...</td>\n",
              "      <td>...</td>\n",
              "      <td>...</td>\n",
              "    </tr>\n",
              "    <tr>\n",
              "      <th>1801730</th>\n",
              "      <td>536573</td>\n",
              "      <td>133</td>\n",
              "      <td>0.91</td>\n",
              "      <td>1</td>\n",
              "      <td>2021-07-15 09:36:07</td>\n",
              "      <td>Ilha Solteira</td>\n",
              "      <td>SP</td>\n",
              "      <td>Thursday</td>\n",
              "    </tr>\n",
              "    <tr>\n",
              "      <th>1801731</th>\n",
              "      <td>548680</td>\n",
              "      <td>2261</td>\n",
              "      <td>9.54</td>\n",
              "      <td>8</td>\n",
              "      <td>2021-07-15 09:36:30</td>\n",
              "      <td>Fernandópolis</td>\n",
              "      <td>SP</td>\n",
              "      <td>Thursday</td>\n",
              "    </tr>\n",
              "    <tr>\n",
              "      <th>1801732</th>\n",
              "      <td>536330</td>\n",
              "      <td>134</td>\n",
              "      <td>9.74</td>\n",
              "      <td>8</td>\n",
              "      <td>2021-07-15 09:36:45</td>\n",
              "      <td>São José do Rio Preto</td>\n",
              "      <td>SP</td>\n",
              "      <td>Thursday</td>\n",
              "    </tr>\n",
              "    <tr>\n",
              "      <th>1801733</th>\n",
              "      <td>545741</td>\n",
              "      <td>136</td>\n",
              "      <td>9.46</td>\n",
              "      <td>8</td>\n",
              "      <td>2021-07-15 09:36:49</td>\n",
              "      <td>Pereira Barreto</td>\n",
              "      <td>SP</td>\n",
              "      <td>Thursday</td>\n",
              "    </tr>\n",
              "    <tr>\n",
              "      <th>1801734</th>\n",
              "      <td>536326</td>\n",
              "      <td>2260</td>\n",
              "      <td>0.68</td>\n",
              "      <td>1</td>\n",
              "      <td>2021-07-15 09:36:51</td>\n",
              "      <td>Ilha Solteira</td>\n",
              "      <td>SP</td>\n",
              "      <td>Thursday</td>\n",
              "    </tr>\n",
              "  </tbody>\n",
              "</table>\n",
              "<p>1801735 rows × 8 columns</p>\n",
              "</div>"
            ],
            "text/plain": [
              "         Retailer   Pdv  Price  ...                   City State    Weekday\n",
              "0          536329   137   0.15  ...        Pereira Barreto    SP  Wednesday\n",
              "1          536329   136   1.38  ...        Pereira Barreto    SP   Thursday\n",
              "2          536329   135   1.00  ...        Pereira Barreto    SP   Thursday\n",
              "3          536329   135  10.00  ...        Pereira Barreto    SP   Thursday\n",
              "4          536329   136   0.79  ...        Pereira Barreto    SP   Thursday\n",
              "...           ...   ...    ...  ...                    ...   ...        ...\n",
              "1801730    536573   133   0.91  ...          Ilha Solteira    SP   Thursday\n",
              "1801731    548680  2261   9.54  ...          Fernandópolis    SP   Thursday\n",
              "1801732    536330   134   9.74  ...  São José do Rio Preto    SP   Thursday\n",
              "1801733    545741   136   9.46  ...        Pereira Barreto    SP   Thursday\n",
              "1801734    536326  2260   0.68  ...          Ilha Solteira    SP   Thursday\n",
              "\n",
              "[1801735 rows x 8 columns]"
            ]
          },
          "metadata": {},
          "execution_count": 193
        }
      ]
    },
    {
      "cell_type": "code",
      "metadata": {
        "colab": {
          "base_uri": "https://localhost:8080/"
        },
        "id": "0cI5d2g2vlhS",
        "outputId": "62c1c3ae-958b-4b29-81e8-bbcf3275d1d6"
      },
      "source": [
        "#Calcula a quantidade de cada dia da semana na base \n",
        "start = df['Timestamp'].min().strftime('%Y-%m-%d')\n",
        "end = df['Timestamp'].max().strftime('%Y-%m-%d')\n",
        "weekday = ['Sat', 'Fri', 'Tue', 'Mon', 'Thu', 'Wed', 'Sun']\n",
        "\n",
        "qnt_weekday = []\n",
        "for elem in weekday:\n",
        "  qtd = np.busday_count(start, end, weekmask=elem)\n",
        "  qnt_weekday.append((elem,qtd))\n",
        "\n",
        "qnt_weekday"
      ],
      "execution_count": null,
      "outputs": [
        {
          "output_type": "execute_result",
          "data": {
            "text/plain": [
              "[('Sat', 165),\n",
              " ('Fri', 165),\n",
              " ('Tue', 165),\n",
              " ('Mon', 165),\n",
              " ('Thu', 165),\n",
              " ('Wed', 166),\n",
              " ('Sun', 165)]"
            ]
          },
          "metadata": {},
          "execution_count": 194
        }
      ]
    },
    {
      "cell_type": "code",
      "metadata": {
        "colab": {
          "base_uri": "https://localhost:8080/"
        },
        "id": "jvAxJBMKvMu5",
        "outputId": "18e0736d-c2cd-4608-bf10-7b3137ac6508"
      },
      "source": [
        "#Calcula a média total de vendas de acordo com o dia da semana, retornando uma lista de tuplas com o dia da semana e sua média de vendas\n",
        "weekday_rec = df['Weekday'].value_counts()\n",
        "weekday_mean = []\n",
        "weekday_values = []\n",
        "for elem in weekday_rec:\n",
        "  weekday_values.append(elem)\n",
        "\n",
        "i = 0\n",
        "for elem, value in qnt_weekday:\n",
        "    weekday_mean.append((elem,round(weekday_values[i]/value)))\n",
        "    i += 1\n",
        "weekday_mean"
      ],
      "execution_count": null,
      "outputs": [
        {
          "output_type": "execute_result",
          "data": {
            "text/plain": [
              "[('Sat', 2007),\n",
              " ('Fri', 1746),\n",
              " ('Tue', 1667),\n",
              " ('Mon', 1638),\n",
              " ('Thu', 1618),\n",
              " ('Wed', 1591),\n",
              " ('Sun', 643)]"
            ]
          },
          "metadata": {},
          "execution_count": 195
        }
      ]
    },
    {
      "cell_type": "code",
      "metadata": {
        "colab": {
          "base_uri": "https://localhost:8080/",
          "height": 423
        },
        "id": "Y8cqL_iUy-Rb",
        "outputId": "97c66459-611c-4883-eb50-b61ca2c4174e"
      },
      "source": [
        "# Pré-processamento: obtém a coluna Price(Somatório das vendas do dia) e insere a coluna Weekday\n",
        "df_class2 = df[['Timestamp', 'Price']].groupby(pd.Grouper(key='Timestamp', freq='1D')).sum()['Price']\n",
        "# A partir daqui, um novo dataframe será gerado(df2) para trabalharmos\n",
        "df2 = pd.DataFrame(df_class2)\n",
        "# Tratamento para que a coluna Timestamp seja criada(o index está como Timestamp, por isso a necessidade dessa atribuição)\n",
        "df2['Timestamp'] = df2.index\n",
        "# Necessário dropar o index Timestamp para que o index seja resetado para inteiros\n",
        "df2 = df2.reset_index(drop=True)\n",
        "# Coluna Weekday inserida novamente de acordo com os novos Timestamps\n",
        "df2['Weekday'] = df2['Timestamp'].dt.day_name()\n",
        "df2 = df2.rename(columns={'Price':'Amount'})\n",
        "df2 "
      ],
      "execution_count": null,
      "outputs": [
        {
          "output_type": "execute_result",
          "data": {
            "text/html": [
              "<div>\n",
              "<style scoped>\n",
              "    .dataframe tbody tr th:only-of-type {\n",
              "        vertical-align: middle;\n",
              "    }\n",
              "\n",
              "    .dataframe tbody tr th {\n",
              "        vertical-align: top;\n",
              "    }\n",
              "\n",
              "    .dataframe thead th {\n",
              "        text-align: right;\n",
              "    }\n",
              "</style>\n",
              "<table border=\"1\" class=\"dataframe\">\n",
              "  <thead>\n",
              "    <tr style=\"text-align: right;\">\n",
              "      <th></th>\n",
              "      <th>Amount</th>\n",
              "      <th>Timestamp</th>\n",
              "      <th>Weekday</th>\n",
              "    </tr>\n",
              "  </thead>\n",
              "  <tbody>\n",
              "    <tr>\n",
              "      <th>0</th>\n",
              "      <td>0.15</td>\n",
              "      <td>2018-05-16</td>\n",
              "      <td>Wednesday</td>\n",
              "    </tr>\n",
              "    <tr>\n",
              "      <th>1</th>\n",
              "      <td>156.34</td>\n",
              "      <td>2018-05-17</td>\n",
              "      <td>Thursday</td>\n",
              "    </tr>\n",
              "    <tr>\n",
              "      <th>2</th>\n",
              "      <td>370.60</td>\n",
              "      <td>2018-05-18</td>\n",
              "      <td>Friday</td>\n",
              "    </tr>\n",
              "    <tr>\n",
              "      <th>3</th>\n",
              "      <td>239.73</td>\n",
              "      <td>2018-05-19</td>\n",
              "      <td>Saturday</td>\n",
              "    </tr>\n",
              "    <tr>\n",
              "      <th>4</th>\n",
              "      <td>118.32</td>\n",
              "      <td>2018-05-20</td>\n",
              "      <td>Sunday</td>\n",
              "    </tr>\n",
              "    <tr>\n",
              "      <th>...</th>\n",
              "      <td>...</td>\n",
              "      <td>...</td>\n",
              "      <td>...</td>\n",
              "    </tr>\n",
              "    <tr>\n",
              "      <th>1152</th>\n",
              "      <td>1814.46</td>\n",
              "      <td>2021-07-11</td>\n",
              "      <td>Sunday</td>\n",
              "    </tr>\n",
              "    <tr>\n",
              "      <th>1153</th>\n",
              "      <td>4651.45</td>\n",
              "      <td>2021-07-12</td>\n",
              "      <td>Monday</td>\n",
              "    </tr>\n",
              "    <tr>\n",
              "      <th>1154</th>\n",
              "      <td>4578.15</td>\n",
              "      <td>2021-07-13</td>\n",
              "      <td>Tuesday</td>\n",
              "    </tr>\n",
              "    <tr>\n",
              "      <th>1155</th>\n",
              "      <td>4059.69</td>\n",
              "      <td>2021-07-14</td>\n",
              "      <td>Wednesday</td>\n",
              "    </tr>\n",
              "    <tr>\n",
              "      <th>1156</th>\n",
              "      <td>343.25</td>\n",
              "      <td>2021-07-15</td>\n",
              "      <td>Thursday</td>\n",
              "    </tr>\n",
              "  </tbody>\n",
              "</table>\n",
              "<p>1157 rows × 3 columns</p>\n",
              "</div>"
            ],
            "text/plain": [
              "       Amount  Timestamp    Weekday\n",
              "0        0.15 2018-05-16  Wednesday\n",
              "1      156.34 2018-05-17   Thursday\n",
              "2      370.60 2018-05-18     Friday\n",
              "3      239.73 2018-05-19   Saturday\n",
              "4      118.32 2018-05-20     Sunday\n",
              "...       ...        ...        ...\n",
              "1152  1814.46 2021-07-11     Sunday\n",
              "1153  4651.45 2021-07-12     Monday\n",
              "1154  4578.15 2021-07-13    Tuesday\n",
              "1155  4059.69 2021-07-14  Wednesday\n",
              "1156   343.25 2021-07-15   Thursday\n",
              "\n",
              "[1157 rows x 3 columns]"
            ]
          },
          "metadata": {},
          "execution_count": 196
        }
      ]
    },
    {
      "cell_type": "code",
      "metadata": {
        "id": "WfA1d3Vqvbwp",
        "colab": {
          "base_uri": "https://localhost:8080/",
          "height": 423
        },
        "outputId": "4bbc3fb7-159f-4935-f285-24f70ade9afa"
      },
      "source": [
        "# Pré-processamento -> LabelEncoder para transformar strings para inteiros\n",
        "le = preprocessing.LabelEncoder()\n",
        "df2['Weekday'] = le.fit_transform(df2['Weekday'])\n",
        "df2"
      ],
      "execution_count": null,
      "outputs": [
        {
          "output_type": "execute_result",
          "data": {
            "text/html": [
              "<div>\n",
              "<style scoped>\n",
              "    .dataframe tbody tr th:only-of-type {\n",
              "        vertical-align: middle;\n",
              "    }\n",
              "\n",
              "    .dataframe tbody tr th {\n",
              "        vertical-align: top;\n",
              "    }\n",
              "\n",
              "    .dataframe thead th {\n",
              "        text-align: right;\n",
              "    }\n",
              "</style>\n",
              "<table border=\"1\" class=\"dataframe\">\n",
              "  <thead>\n",
              "    <tr style=\"text-align: right;\">\n",
              "      <th></th>\n",
              "      <th>Amount</th>\n",
              "      <th>Timestamp</th>\n",
              "      <th>Weekday</th>\n",
              "    </tr>\n",
              "  </thead>\n",
              "  <tbody>\n",
              "    <tr>\n",
              "      <th>0</th>\n",
              "      <td>0.15</td>\n",
              "      <td>2018-05-16</td>\n",
              "      <td>6</td>\n",
              "    </tr>\n",
              "    <tr>\n",
              "      <th>1</th>\n",
              "      <td>156.34</td>\n",
              "      <td>2018-05-17</td>\n",
              "      <td>4</td>\n",
              "    </tr>\n",
              "    <tr>\n",
              "      <th>2</th>\n",
              "      <td>370.60</td>\n",
              "      <td>2018-05-18</td>\n",
              "      <td>0</td>\n",
              "    </tr>\n",
              "    <tr>\n",
              "      <th>3</th>\n",
              "      <td>239.73</td>\n",
              "      <td>2018-05-19</td>\n",
              "      <td>2</td>\n",
              "    </tr>\n",
              "    <tr>\n",
              "      <th>4</th>\n",
              "      <td>118.32</td>\n",
              "      <td>2018-05-20</td>\n",
              "      <td>3</td>\n",
              "    </tr>\n",
              "    <tr>\n",
              "      <th>...</th>\n",
              "      <td>...</td>\n",
              "      <td>...</td>\n",
              "      <td>...</td>\n",
              "    </tr>\n",
              "    <tr>\n",
              "      <th>1152</th>\n",
              "      <td>1814.46</td>\n",
              "      <td>2021-07-11</td>\n",
              "      <td>3</td>\n",
              "    </tr>\n",
              "    <tr>\n",
              "      <th>1153</th>\n",
              "      <td>4651.45</td>\n",
              "      <td>2021-07-12</td>\n",
              "      <td>1</td>\n",
              "    </tr>\n",
              "    <tr>\n",
              "      <th>1154</th>\n",
              "      <td>4578.15</td>\n",
              "      <td>2021-07-13</td>\n",
              "      <td>5</td>\n",
              "    </tr>\n",
              "    <tr>\n",
              "      <th>1155</th>\n",
              "      <td>4059.69</td>\n",
              "      <td>2021-07-14</td>\n",
              "      <td>6</td>\n",
              "    </tr>\n",
              "    <tr>\n",
              "      <th>1156</th>\n",
              "      <td>343.25</td>\n",
              "      <td>2021-07-15</td>\n",
              "      <td>4</td>\n",
              "    </tr>\n",
              "  </tbody>\n",
              "</table>\n",
              "<p>1157 rows × 3 columns</p>\n",
              "</div>"
            ],
            "text/plain": [
              "       Amount  Timestamp  Weekday\n",
              "0        0.15 2018-05-16        6\n",
              "1      156.34 2018-05-17        4\n",
              "2      370.60 2018-05-18        0\n",
              "3      239.73 2018-05-19        2\n",
              "4      118.32 2018-05-20        3\n",
              "...       ...        ...      ...\n",
              "1152  1814.46 2021-07-11        3\n",
              "1153  4651.45 2021-07-12        1\n",
              "1154  4578.15 2021-07-13        5\n",
              "1155  4059.69 2021-07-14        6\n",
              "1156   343.25 2021-07-15        4\n",
              "\n",
              "[1157 rows x 3 columns]"
            ]
          },
          "metadata": {},
          "execution_count": 197
        }
      ]
    },
    {
      "cell_type": "code",
      "metadata": {
        "id": "G_TlXyfm5vyq"
      },
      "source": [
        "#Dicionário criado para associar o dia ao seu valor do DataFrame\n",
        "dc = {'Sun': 0, 'Mon': 1, 'Tue': 2, 'Wed': 3,'Thu': 4,\n",
        " 'Fri': 5,\n",
        " 'Sat': 6}\n",
        "x = []\n",
        "# Itera sobre o a lista weekday_mean para associar o valor do dia da semana(0 a 6) com a média de vendas desse dia. ex: 0: 643(Domingo);  6: 2007(Sábbado)\n",
        "for elem in weekday_mean:\n",
        "   x.append((dc[elem[0]],elem[1]))\n",
        "  \n",
        "#transforma x num dicionário\n",
        "x = dict(x)"
      ],
      "execution_count": null,
      "outputs": []
    },
    {
      "cell_type": "code",
      "metadata": {
        "colab": {
          "base_uri": "https://localhost:8080/",
          "height": 423
        },
        "id": "T7BNsPWV-JC5",
        "outputId": "13a62d98-fe6b-4bef-dc9f-bb71fd0c0737"
      },
      "source": [
        "# Obtém 2 arrays:   array z -> obtém todos os Prices(Amount)  array y -> obtém todos os dias (0 a 6)\n",
        "z, y = df2.values[:, 0], df2.values[:, -1]\n",
        "analysis = []\n",
        "for i in range(len(z)):\n",
        "    if z[i] >= x[y[i]]:\n",
        "      analysis.append('Good') \n",
        "    else:\n",
        "      analysis.append('Bad')\n",
        "#atribui a lista gerada para uma nova coluna(Analysis)\n",
        "df2['Analysis'] = analysis\n",
        "df2"
      ],
      "execution_count": null,
      "outputs": [
        {
          "output_type": "execute_result",
          "data": {
            "text/html": [
              "<div>\n",
              "<style scoped>\n",
              "    .dataframe tbody tr th:only-of-type {\n",
              "        vertical-align: middle;\n",
              "    }\n",
              "\n",
              "    .dataframe tbody tr th {\n",
              "        vertical-align: top;\n",
              "    }\n",
              "\n",
              "    .dataframe thead th {\n",
              "        text-align: right;\n",
              "    }\n",
              "</style>\n",
              "<table border=\"1\" class=\"dataframe\">\n",
              "  <thead>\n",
              "    <tr style=\"text-align: right;\">\n",
              "      <th></th>\n",
              "      <th>Amount</th>\n",
              "      <th>Timestamp</th>\n",
              "      <th>Weekday</th>\n",
              "      <th>Analysis</th>\n",
              "    </tr>\n",
              "  </thead>\n",
              "  <tbody>\n",
              "    <tr>\n",
              "      <th>0</th>\n",
              "      <td>0.15</td>\n",
              "      <td>2018-05-16</td>\n",
              "      <td>6</td>\n",
              "      <td>Bad</td>\n",
              "    </tr>\n",
              "    <tr>\n",
              "      <th>1</th>\n",
              "      <td>156.34</td>\n",
              "      <td>2018-05-17</td>\n",
              "      <td>4</td>\n",
              "      <td>Bad</td>\n",
              "    </tr>\n",
              "    <tr>\n",
              "      <th>2</th>\n",
              "      <td>370.60</td>\n",
              "      <td>2018-05-18</td>\n",
              "      <td>0</td>\n",
              "      <td>Bad</td>\n",
              "    </tr>\n",
              "    <tr>\n",
              "      <th>3</th>\n",
              "      <td>239.73</td>\n",
              "      <td>2018-05-19</td>\n",
              "      <td>2</td>\n",
              "      <td>Bad</td>\n",
              "    </tr>\n",
              "    <tr>\n",
              "      <th>4</th>\n",
              "      <td>118.32</td>\n",
              "      <td>2018-05-20</td>\n",
              "      <td>3</td>\n",
              "      <td>Bad</td>\n",
              "    </tr>\n",
              "    <tr>\n",
              "      <th>...</th>\n",
              "      <td>...</td>\n",
              "      <td>...</td>\n",
              "      <td>...</td>\n",
              "      <td>...</td>\n",
              "    </tr>\n",
              "    <tr>\n",
              "      <th>1152</th>\n",
              "      <td>1814.46</td>\n",
              "      <td>2021-07-11</td>\n",
              "      <td>3</td>\n",
              "      <td>Good</td>\n",
              "    </tr>\n",
              "    <tr>\n",
              "      <th>1153</th>\n",
              "      <td>4651.45</td>\n",
              "      <td>2021-07-12</td>\n",
              "      <td>1</td>\n",
              "      <td>Good</td>\n",
              "    </tr>\n",
              "    <tr>\n",
              "      <th>1154</th>\n",
              "      <td>4578.15</td>\n",
              "      <td>2021-07-13</td>\n",
              "      <td>5</td>\n",
              "      <td>Good</td>\n",
              "    </tr>\n",
              "    <tr>\n",
              "      <th>1155</th>\n",
              "      <td>4059.69</td>\n",
              "      <td>2021-07-14</td>\n",
              "      <td>6</td>\n",
              "      <td>Good</td>\n",
              "    </tr>\n",
              "    <tr>\n",
              "      <th>1156</th>\n",
              "      <td>343.25</td>\n",
              "      <td>2021-07-15</td>\n",
              "      <td>4</td>\n",
              "      <td>Bad</td>\n",
              "    </tr>\n",
              "  </tbody>\n",
              "</table>\n",
              "<p>1157 rows × 4 columns</p>\n",
              "</div>"
            ],
            "text/plain": [
              "       Amount  Timestamp  Weekday Analysis\n",
              "0        0.15 2018-05-16        6      Bad\n",
              "1      156.34 2018-05-17        4      Bad\n",
              "2      370.60 2018-05-18        0      Bad\n",
              "3      239.73 2018-05-19        2      Bad\n",
              "4      118.32 2018-05-20        3      Bad\n",
              "...       ...        ...      ...      ...\n",
              "1152  1814.46 2021-07-11        3     Good\n",
              "1153  4651.45 2021-07-12        1     Good\n",
              "1154  4578.15 2021-07-13        5     Good\n",
              "1155  4059.69 2021-07-14        6     Good\n",
              "1156   343.25 2021-07-15        4      Bad\n",
              "\n",
              "[1157 rows x 4 columns]"
            ]
          },
          "metadata": {},
          "execution_count": 199
        }
      ]
    },
    {
      "cell_type": "code",
      "metadata": {
        "colab": {
          "base_uri": "https://localhost:8080/",
          "height": 423
        },
        "id": "XcUswGUP5Twq",
        "outputId": "895f5115-fc54-456b-9e53-0c8913b8bbd5"
      },
      "source": [
        "df2['Analysis'] = le.fit_transform(df2['Analysis'])\n",
        "df2"
      ],
      "execution_count": null,
      "outputs": [
        {
          "output_type": "execute_result",
          "data": {
            "text/html": [
              "<div>\n",
              "<style scoped>\n",
              "    .dataframe tbody tr th:only-of-type {\n",
              "        vertical-align: middle;\n",
              "    }\n",
              "\n",
              "    .dataframe tbody tr th {\n",
              "        vertical-align: top;\n",
              "    }\n",
              "\n",
              "    .dataframe thead th {\n",
              "        text-align: right;\n",
              "    }\n",
              "</style>\n",
              "<table border=\"1\" class=\"dataframe\">\n",
              "  <thead>\n",
              "    <tr style=\"text-align: right;\">\n",
              "      <th></th>\n",
              "      <th>Amount</th>\n",
              "      <th>Timestamp</th>\n",
              "      <th>Weekday</th>\n",
              "      <th>Analysis</th>\n",
              "    </tr>\n",
              "  </thead>\n",
              "  <tbody>\n",
              "    <tr>\n",
              "      <th>0</th>\n",
              "      <td>0.15</td>\n",
              "      <td>2018-05-16</td>\n",
              "      <td>6</td>\n",
              "      <td>0</td>\n",
              "    </tr>\n",
              "    <tr>\n",
              "      <th>1</th>\n",
              "      <td>156.34</td>\n",
              "      <td>2018-05-17</td>\n",
              "      <td>4</td>\n",
              "      <td>0</td>\n",
              "    </tr>\n",
              "    <tr>\n",
              "      <th>2</th>\n",
              "      <td>370.60</td>\n",
              "      <td>2018-05-18</td>\n",
              "      <td>0</td>\n",
              "      <td>0</td>\n",
              "    </tr>\n",
              "    <tr>\n",
              "      <th>3</th>\n",
              "      <td>239.73</td>\n",
              "      <td>2018-05-19</td>\n",
              "      <td>2</td>\n",
              "      <td>0</td>\n",
              "    </tr>\n",
              "    <tr>\n",
              "      <th>4</th>\n",
              "      <td>118.32</td>\n",
              "      <td>2018-05-20</td>\n",
              "      <td>3</td>\n",
              "      <td>0</td>\n",
              "    </tr>\n",
              "    <tr>\n",
              "      <th>...</th>\n",
              "      <td>...</td>\n",
              "      <td>...</td>\n",
              "      <td>...</td>\n",
              "      <td>...</td>\n",
              "    </tr>\n",
              "    <tr>\n",
              "      <th>1152</th>\n",
              "      <td>1814.46</td>\n",
              "      <td>2021-07-11</td>\n",
              "      <td>3</td>\n",
              "      <td>1</td>\n",
              "    </tr>\n",
              "    <tr>\n",
              "      <th>1153</th>\n",
              "      <td>4651.45</td>\n",
              "      <td>2021-07-12</td>\n",
              "      <td>1</td>\n",
              "      <td>1</td>\n",
              "    </tr>\n",
              "    <tr>\n",
              "      <th>1154</th>\n",
              "      <td>4578.15</td>\n",
              "      <td>2021-07-13</td>\n",
              "      <td>5</td>\n",
              "      <td>1</td>\n",
              "    </tr>\n",
              "    <tr>\n",
              "      <th>1155</th>\n",
              "      <td>4059.69</td>\n",
              "      <td>2021-07-14</td>\n",
              "      <td>6</td>\n",
              "      <td>1</td>\n",
              "    </tr>\n",
              "    <tr>\n",
              "      <th>1156</th>\n",
              "      <td>343.25</td>\n",
              "      <td>2021-07-15</td>\n",
              "      <td>4</td>\n",
              "      <td>0</td>\n",
              "    </tr>\n",
              "  </tbody>\n",
              "</table>\n",
              "<p>1157 rows × 4 columns</p>\n",
              "</div>"
            ],
            "text/plain": [
              "       Amount  Timestamp  Weekday  Analysis\n",
              "0        0.15 2018-05-16        6         0\n",
              "1      156.34 2018-05-17        4         0\n",
              "2      370.60 2018-05-18        0         0\n",
              "3      239.73 2018-05-19        2         0\n",
              "4      118.32 2018-05-20        3         0\n",
              "...       ...        ...      ...       ...\n",
              "1152  1814.46 2021-07-11        3         1\n",
              "1153  4651.45 2021-07-12        1         1\n",
              "1154  4578.15 2021-07-13        5         1\n",
              "1155  4059.69 2021-07-14        6         1\n",
              "1156   343.25 2021-07-15        4         0\n",
              "\n",
              "[1157 rows x 4 columns]"
            ]
          },
          "metadata": {},
          "execution_count": 200
        }
      ]
    },
    {
      "cell_type": "code",
      "metadata": {
        "id": "3lKvY1AS68Ol",
        "colab": {
          "base_uri": "https://localhost:8080/",
          "height": 265
        },
        "outputId": "18e03ca3-5315-4258-f246-7da6e11405a3"
      },
      "source": [
        "plt.scatter(df2['Weekday'],df2['Amount'])\n",
        "plt.show()"
      ],
      "execution_count": null,
      "outputs": [
        {
          "output_type": "display_data",
          "data": {
            "image/png": "[encoded data removed]",
            "text/plain": [
              "<Figure size 432x288 with 1 Axes>"
            ]
          },
          "metadata": {
            "needs_background": "light"
          }
        }
      ]
    },
    {
      "cell_type": "code",
      "metadata": {
        "id": "J8G7l8q1727O",
        "colab": {
          "base_uri": "https://localhost:8080/",
          "height": 335
        },
        "outputId": "244191c7-61e6-4aea-f28b-48f8e9f70903"
      },
      "source": [
        "plt.hist(df2['Amount'])"
      ],
      "execution_count": null,
      "outputs": [
        {
          "output_type": "execute_result",
          "data": {
            "text/plain": [
              "(array([155., 202., 307., 322., 129.,  22.,   7.,   7.,   4.,   2.]),\n",
              " array([   0.   ,  833.032, 1666.064, 2499.096, 3332.128, 4165.16 ,\n",
              "        4998.192, 5831.224, 6664.256, 7497.288, 8330.32 ]),\n",
              " <a list of 10 Patch objects>)"
            ]
          },
          "metadata": {},
          "execution_count": 202
        },
        {
          "output_type": "display_data",
          "data": {
            "image/png": "[encoded data removed]",
            "text/plain": [
              "<Figure size 432x288 with 1 Axes>"
            ]
          },
          "metadata": {
            "needs_background": "light"
          }
        }
      ]
    },
    {
      "cell_type": "markdown",
      "metadata": {
        "id": "xITPgD1Bz0cJ"
      },
      "source": [
        "##**Isolation Forest**"
      ]
    },
    {
      "cell_type": "code",
      "metadata": {
        "id": "yZlHqEIq-shm"
      },
      "source": [
        "from pandas import read_csv\n",
        "from sklearn.model_selection import train_test_split\n",
        "from sklearn.linear_model import LinearRegression\n",
        "from sklearn.ensemble import IsolationForest\n",
        "from sklearn.metrics import mean_absolute_error\n",
        "from sklearn.preprocessing import MinMaxScaler"
      ],
      "execution_count": null,
      "outputs": []
    },
    {
      "cell_type": "code",
      "metadata": {
        "id": "dBGIST97zmVs"
      },
      "source": [
        "# Normalização dos dados\n",
        "#x = (x-x.min())/(x.max()-x.min())\n",
        "scaler = MinMaxScaler()\n",
        "df3 = df2.drop(columns=['Timestamp'])\n",
        "data = scaler.fit_transform(df3)"
      ],
      "execution_count": null,
      "outputs": []
    },
    {
      "cell_type": "code",
      "metadata": {
        "id": "AwaSuFTszEl_",
        "colab": {
          "base_uri": "https://localhost:8080/"
        },
        "outputId": "2996954e-abf3-48cc-84e1-d0b13b4548bb"
      },
      "source": [
        "#Isolation Forest with Analysis column\n",
        "iso = IsolationForest(contamination=0.05)\n",
        "y_pred = iso.fit_predict(data)\n",
        "y_pred"
      ],
      "execution_count": null,
      "outputs": [
        {
          "output_type": "execute_result",
          "data": {
            "text/plain": [
              "array([-1,  1, -1, ...,  1,  1,  1])"
            ]
          },
          "metadata": {},
          "execution_count": 205
        }
      ]
    },
    {
      "cell_type": "code",
      "metadata": {
        "colab": {
          "base_uri": "https://localhost:8080/",
          "height": 423
        },
        "id": "TOxNRoxJ8YOl",
        "outputId": "5257da38-1b85-4e41-d3e2-b35499fd5fe2"
      },
      "source": [
        "df2['IsOutlier'] = y_pred\n",
        "df2"
      ],
      "execution_count": null,
      "outputs": [
        {
          "output_type": "execute_result",
          "data": {
            "text/html": [
              "<div>\n",
              "<style scoped>\n",
              "    .dataframe tbody tr th:only-of-type {\n",
              "        vertical-align: middle;\n",
              "    }\n",
              "\n",
              "    .dataframe tbody tr th {\n",
              "        vertical-align: top;\n",
              "    }\n",
              "\n",
              "    .dataframe thead th {\n",
              "        text-align: right;\n",
              "    }\n",
              "</style>\n",
              "<table border=\"1\" class=\"dataframe\">\n",
              "  <thead>\n",
              "    <tr style=\"text-align: right;\">\n",
              "      <th></th>\n",
              "      <th>Amount</th>\n",
              "      <th>Timestamp</th>\n",
              "      <th>Weekday</th>\n",
              "      <th>Analysis</th>\n",
              "      <th>IsOutlier</th>\n",
              "    </tr>\n",
              "  </thead>\n",
              "  <tbody>\n",
              "    <tr>\n",
              "      <th>0</th>\n",
              "      <td>0.15</td>\n",
              "      <td>2018-05-16</td>\n",
              "      <td>6</td>\n",
              "      <td>0</td>\n",
              "      <td>-1</td>\n",
              "    </tr>\n",
              "    <tr>\n",
              "      <th>1</th>\n",
              "      <td>156.34</td>\n",
              "      <td>2018-05-17</td>\n",
              "      <td>4</td>\n",
              "      <td>0</td>\n",
              "      <td>1</td>\n",
              "    </tr>\n",
              "    <tr>\n",
              "      <th>2</th>\n",
              "      <td>370.60</td>\n",
              "      <td>2018-05-18</td>\n",
              "      <td>0</td>\n",
              "      <td>0</td>\n",
              "      <td>-1</td>\n",
              "    </tr>\n",
              "    <tr>\n",
              "      <th>3</th>\n",
              "      <td>239.73</td>\n",
              "      <td>2018-05-19</td>\n",
              "      <td>2</td>\n",
              "      <td>0</td>\n",
              "      <td>1</td>\n",
              "    </tr>\n",
              "    <tr>\n",
              "      <th>4</th>\n",
              "      <td>118.32</td>\n",
              "      <td>2018-05-20</td>\n",
              "      <td>3</td>\n",
              "      <td>0</td>\n",
              "      <td>1</td>\n",
              "    </tr>\n",
              "    <tr>\n",
              "      <th>...</th>\n",
              "      <td>...</td>\n",
              "      <td>...</td>\n",
              "      <td>...</td>\n",
              "      <td>...</td>\n",
              "      <td>...</td>\n",
              "    </tr>\n",
              "    <tr>\n",
              "      <th>1152</th>\n",
              "      <td>1814.46</td>\n",
              "      <td>2021-07-11</td>\n",
              "      <td>3</td>\n",
              "      <td>1</td>\n",
              "      <td>1</td>\n",
              "    </tr>\n",
              "    <tr>\n",
              "      <th>1153</th>\n",
              "      <td>4651.45</td>\n",
              "      <td>2021-07-12</td>\n",
              "      <td>1</td>\n",
              "      <td>1</td>\n",
              "      <td>1</td>\n",
              "    </tr>\n",
              "    <tr>\n",
              "      <th>1154</th>\n",
              "      <td>4578.15</td>\n",
              "      <td>2021-07-13</td>\n",
              "      <td>5</td>\n",
              "      <td>1</td>\n",
              "      <td>1</td>\n",
              "    </tr>\n",
              "    <tr>\n",
              "      <th>1155</th>\n",
              "      <td>4059.69</td>\n",
              "      <td>2021-07-14</td>\n",
              "      <td>6</td>\n",
              "      <td>1</td>\n",
              "      <td>1</td>\n",
              "    </tr>\n",
              "    <tr>\n",
              "      <th>1156</th>\n",
              "      <td>343.25</td>\n",
              "      <td>2021-07-15</td>\n",
              "      <td>4</td>\n",
              "      <td>0</td>\n",
              "      <td>1</td>\n",
              "    </tr>\n",
              "  </tbody>\n",
              "</table>\n",
              "<p>1157 rows × 5 columns</p>\n",
              "</div>"
            ],
            "text/plain": [
              "       Amount  Timestamp  Weekday  Analysis  IsOutlier\n",
              "0        0.15 2018-05-16        6         0         -1\n",
              "1      156.34 2018-05-17        4         0          1\n",
              "2      370.60 2018-05-18        0         0         -1\n",
              "3      239.73 2018-05-19        2         0          1\n",
              "4      118.32 2018-05-20        3         0          1\n",
              "...       ...        ...      ...       ...        ...\n",
              "1152  1814.46 2021-07-11        3         1          1\n",
              "1153  4651.45 2021-07-12        1         1          1\n",
              "1154  4578.15 2021-07-13        5         1          1\n",
              "1155  4059.69 2021-07-14        6         1          1\n",
              "1156   343.25 2021-07-15        4         0          1\n",
              "\n",
              "[1157 rows x 5 columns]"
            ]
          },
          "metadata": {},
          "execution_count": 206
        }
      ]
    },
    {
      "cell_type": "code",
      "metadata": {
        "colab": {
          "base_uri": "https://localhost:8080/"
        },
        "id": "lz6kKChWHn7a",
        "outputId": "775d77f0-07e0-477c-d8e5-01ad00d2239f"
      },
      "source": [
        "# Returns the number of outliers\n",
        "def qtyOutliers(y_pred):\n",
        "  c= 0\n",
        "  for item in y_pred:\n",
        "    if item == -1:\n",
        "      c+=1\n",
        "  return c\n",
        "qtyOutliers(y_pred)"
      ],
      "execution_count": null,
      "outputs": [
        {
          "output_type": "execute_result",
          "data": {
            "text/plain": [
              "58"
            ]
          },
          "metadata": {},
          "execution_count": 207
        }
      ]
    },
    {
      "cell_type": "markdown",
      "metadata": {
        "id": "zoTaNECI_BGI"
      },
      "source": [
        "## **Isolation Forest - Teste 2**"
      ]
    },
    {
      "cell_type": "code",
      "metadata": {
        "id": "Qz6GRqZ__FPo"
      },
      "source": [
        "from pandas import read_csv\n",
        "from sklearn.model_selection import train_test_split\n",
        "from sklearn.linear_model import LinearRegression\n",
        "from sklearn.ensemble import IsolationForest\n",
        "from sklearn.metrics import mean_absolute_error\n",
        "from sklearn.preprocessing import MinMaxScaler"
      ],
      "execution_count": null,
      "outputs": []
    },
    {
      "cell_type": "code",
      "metadata": {
        "id": "lzf7jfCE_K6n"
      },
      "source": [
        "# Normalização dos dados\n",
        "#x = (x-x.min())/(x.max()-x.min())\n",
        "scaler = MinMaxScaler()\n",
        "df3 = df2.drop(columns=['Timestamp','Analysis'])\n",
        "data2 = scaler.fit_transform(df3)"
      ],
      "execution_count": null,
      "outputs": []
    },
    {
      "cell_type": "code",
      "metadata": {
        "colab": {
          "base_uri": "https://localhost:8080/"
        },
        "id": "SUfp4Zie_OcM",
        "outputId": "990f832d-b115-4a60-975e-27df5248aeda"
      },
      "source": [
        "#Isolation Forest without Analysis column\n",
        "iso = IsolationForest(contamination=0.05)\n",
        "y_pred2 = iso.fit_predict(data2)\n",
        "y_pred2"
      ],
      "execution_count": null,
      "outputs": [
        {
          "output_type": "execute_result",
          "data": {
            "text/plain": [
              "array([-1,  1, -1, ...,  1,  1,  1])"
            ]
          },
          "metadata": {},
          "execution_count": 210
        }
      ]
    },
    {
      "cell_type": "code",
      "metadata": {
        "colab": {
          "base_uri": "https://localhost:8080/",
          "height": 423
        },
        "id": "cxdeQE7hAD8L",
        "outputId": "c55e45f2-8216-4c17-b1c9-9bcaedd986f8"
      },
      "source": [
        "df3['IsOutlier'] = y_pred2\n",
        "df3"
      ],
      "execution_count": null,
      "outputs": [
        {
          "output_type": "execute_result",
          "data": {
            "text/html": [
              "<div>\n",
              "<style scoped>\n",
              "    .dataframe tbody tr th:only-of-type {\n",
              "        vertical-align: middle;\n",
              "    }\n",
              "\n",
              "    .dataframe tbody tr th {\n",
              "        vertical-align: top;\n",
              "    }\n",
              "\n",
              "    .dataframe thead th {\n",
              "        text-align: right;\n",
              "    }\n",
              "</style>\n",
              "<table border=\"1\" class=\"dataframe\">\n",
              "  <thead>\n",
              "    <tr style=\"text-align: right;\">\n",
              "      <th></th>\n",
              "      <th>Amount</th>\n",
              "      <th>Weekday</th>\n",
              "      <th>IsOutlier</th>\n",
              "    </tr>\n",
              "  </thead>\n",
              "  <tbody>\n",
              "    <tr>\n",
              "      <th>0</th>\n",
              "      <td>0.15</td>\n",
              "      <td>6</td>\n",
              "      <td>-1</td>\n",
              "    </tr>\n",
              "    <tr>\n",
              "      <th>1</th>\n",
              "      <td>156.34</td>\n",
              "      <td>4</td>\n",
              "      <td>1</td>\n",
              "    </tr>\n",
              "    <tr>\n",
              "      <th>2</th>\n",
              "      <td>370.60</td>\n",
              "      <td>0</td>\n",
              "      <td>-1</td>\n",
              "    </tr>\n",
              "    <tr>\n",
              "      <th>3</th>\n",
              "      <td>239.73</td>\n",
              "      <td>2</td>\n",
              "      <td>1</td>\n",
              "    </tr>\n",
              "    <tr>\n",
              "      <th>4</th>\n",
              "      <td>118.32</td>\n",
              "      <td>3</td>\n",
              "      <td>1</td>\n",
              "    </tr>\n",
              "    <tr>\n",
              "      <th>...</th>\n",
              "      <td>...</td>\n",
              "      <td>...</td>\n",
              "      <td>...</td>\n",
              "    </tr>\n",
              "    <tr>\n",
              "      <th>1152</th>\n",
              "      <td>1814.46</td>\n",
              "      <td>3</td>\n",
              "      <td>1</td>\n",
              "    </tr>\n",
              "    <tr>\n",
              "      <th>1153</th>\n",
              "      <td>4651.45</td>\n",
              "      <td>1</td>\n",
              "      <td>1</td>\n",
              "    </tr>\n",
              "    <tr>\n",
              "      <th>1154</th>\n",
              "      <td>4578.15</td>\n",
              "      <td>5</td>\n",
              "      <td>1</td>\n",
              "    </tr>\n",
              "    <tr>\n",
              "      <th>1155</th>\n",
              "      <td>4059.69</td>\n",
              "      <td>6</td>\n",
              "      <td>1</td>\n",
              "    </tr>\n",
              "    <tr>\n",
              "      <th>1156</th>\n",
              "      <td>343.25</td>\n",
              "      <td>4</td>\n",
              "      <td>1</td>\n",
              "    </tr>\n",
              "  </tbody>\n",
              "</table>\n",
              "<p>1157 rows × 3 columns</p>\n",
              "</div>"
            ],
            "text/plain": [
              "       Amount  Weekday  IsOutlier\n",
              "0        0.15        6         -1\n",
              "1      156.34        4          1\n",
              "2      370.60        0         -1\n",
              "3      239.73        2          1\n",
              "4      118.32        3          1\n",
              "...       ...      ...        ...\n",
              "1152  1814.46        3          1\n",
              "1153  4651.45        1          1\n",
              "1154  4578.15        5          1\n",
              "1155  4059.69        6          1\n",
              "1156   343.25        4          1\n",
              "\n",
              "[1157 rows x 3 columns]"
            ]
          },
          "metadata": {},
          "execution_count": 211
        }
      ]
    },
    {
      "cell_type": "code",
      "metadata": {
        "colab": {
          "base_uri": "https://localhost:8080/"
        },
        "id": "mYlL9gQ1ARGU",
        "outputId": "16a97c33-1754-4ee9-9812-2d453f1cd607"
      },
      "source": [
        "qtyOutliers(y_pred)"
      ],
      "execution_count": null,
      "outputs": [
        {
          "output_type": "execute_result",
          "data": {
            "text/plain": [
              "58"
            ]
          },
          "metadata": {},
          "execution_count": 212
        }
      ]
    },
    {
      "cell_type": "code",
      "metadata": {
        "colab": {
          "base_uri": "https://localhost:8080/",
          "height": 297
        },
        "id": "cetJnXGeA-rs",
        "outputId": "6f9cc03f-8aee-42b6-d554-b3f1d386b7bb"
      },
      "source": [
        "sns.boxplot(x='Weekday', y='Amount', data=df2)"
      ],
      "execution_count": null,
      "outputs": [
        {
          "output_type": "execute_result",
          "data": {
            "text/plain": [
              "<matplotlib.axes._subplots.AxesSubplot at 0x7faed7ae4910>"
            ]
          },
          "metadata": {},
          "execution_count": 154
        },
        {
          "output_type": "display_data",
          "data": {
            "image/png": "[encoded data removed]",
            "text/plain": [
              "<Figure size 432x288 with 1 Axes>"
            ]
          },
          "metadata": {
            "needs_background": "light"
          }
        }
      ]
    },
    {
      "cell_type": "markdown",
      "metadata": {
        "id": "HJqqQ3Vnz5oG"
      },
      "source": [
        "##**Local Outlier Factor**"
      ]
    },
    {
      "cell_type": "code",
      "metadata": {
        "id": "rIqlm8Jd1sSE"
      },
      "source": [
        "# evaluate model performance with outliers removed using local outlier factor\n",
        "from pandas import read_csv\n",
        "from sklearn.model_selection import train_test_split\n",
        "from sklearn.linear_model import LinearRegression\n",
        "from sklearn.neighbors import LocalOutlierFactor\n",
        "from sklearn.metrics import mean_absolute_error"
      ],
      "execution_count": null,
      "outputs": []
    },
    {
      "cell_type": "code",
      "metadata": {
        "id": "dkwDDI3o0CaT"
      },
      "source": [
        "lof = LocalOutlierFactor(contamination=0.05)\n",
        "ypred3 = lof.fit_predict(data)\n",
        "# select all rows that are not outliers"
      ],
      "execution_count": null,
      "outputs": []
    },
    {
      "cell_type": "code",
      "metadata": {
        "colab": {
          "base_uri": "https://localhost:8080/"
        },
        "id": "ES9gpcr_Dm6Z",
        "outputId": "38785365-2a9e-43b3-ac77-1a48e86f961b"
      },
      "source": [
        "ypred3"
      ],
      "execution_count": null,
      "outputs": [
        {
          "output_type": "execute_result",
          "data": {
            "text/plain": [
              "array([ 1,  1,  1, ..., -1, -1,  1])"
            ]
          },
          "metadata": {},
          "execution_count": 215
        }
      ]
    },
    {
      "cell_type": "code",
      "metadata": {
        "colab": {
          "base_uri": "https://localhost:8080/",
          "height": 423
        },
        "id": "q-ByivRYDqpB",
        "outputId": "a7efebc8-eeb1-45ec-a0d1-dada3bdf47c5"
      },
      "source": [
        "df2['IsOutlier'] = ypred3\n",
        "df2"
      ],
      "execution_count": null,
      "outputs": [
        {
          "output_type": "execute_result",
          "data": {
            "text/html": [
              "<div>\n",
              "<style scoped>\n",
              "    .dataframe tbody tr th:only-of-type {\n",
              "        vertical-align: middle;\n",
              "    }\n",
              "\n",
              "    .dataframe tbody tr th {\n",
              "        vertical-align: top;\n",
              "    }\n",
              "\n",
              "    .dataframe thead th {\n",
              "        text-align: right;\n",
              "    }\n",
              "</style>\n",
              "<table border=\"1\" class=\"dataframe\">\n",
              "  <thead>\n",
              "    <tr style=\"text-align: right;\">\n",
              "      <th></th>\n",
              "      <th>Amount</th>\n",
              "      <th>Timestamp</th>\n",
              "      <th>Weekday</th>\n",
              "      <th>Analysis</th>\n",
              "      <th>IsOutlier</th>\n",
              "    </tr>\n",
              "  </thead>\n",
              "  <tbody>\n",
              "    <tr>\n",
              "      <th>0</th>\n",
              "      <td>0.15</td>\n",
              "      <td>2018-05-16</td>\n",
              "      <td>6</td>\n",
              "      <td>0</td>\n",
              "      <td>1</td>\n",
              "    </tr>\n",
              "    <tr>\n",
              "      <th>1</th>\n",
              "      <td>156.34</td>\n",
              "      <td>2018-05-17</td>\n",
              "      <td>4</td>\n",
              "      <td>0</td>\n",
              "      <td>1</td>\n",
              "    </tr>\n",
              "    <tr>\n",
              "      <th>2</th>\n",
              "      <td>370.60</td>\n",
              "      <td>2018-05-18</td>\n",
              "      <td>0</td>\n",
              "      <td>0</td>\n",
              "      <td>1</td>\n",
              "    </tr>\n",
              "    <tr>\n",
              "      <th>3</th>\n",
              "      <td>239.73</td>\n",
              "      <td>2018-05-19</td>\n",
              "      <td>2</td>\n",
              "      <td>0</td>\n",
              "      <td>1</td>\n",
              "    </tr>\n",
              "    <tr>\n",
              "      <th>4</th>\n",
              "      <td>118.32</td>\n",
              "      <td>2018-05-20</td>\n",
              "      <td>3</td>\n",
              "      <td>0</td>\n",
              "      <td>1</td>\n",
              "    </tr>\n",
              "    <tr>\n",
              "      <th>...</th>\n",
              "      <td>...</td>\n",
              "      <td>...</td>\n",
              "      <td>...</td>\n",
              "      <td>...</td>\n",
              "      <td>...</td>\n",
              "    </tr>\n",
              "    <tr>\n",
              "      <th>1152</th>\n",
              "      <td>1814.46</td>\n",
              "      <td>2021-07-11</td>\n",
              "      <td>3</td>\n",
              "      <td>1</td>\n",
              "      <td>-1</td>\n",
              "    </tr>\n",
              "    <tr>\n",
              "      <th>1153</th>\n",
              "      <td>4651.45</td>\n",
              "      <td>2021-07-12</td>\n",
              "      <td>1</td>\n",
              "      <td>1</td>\n",
              "      <td>-1</td>\n",
              "    </tr>\n",
              "    <tr>\n",
              "      <th>1154</th>\n",
              "      <td>4578.15</td>\n",
              "      <td>2021-07-13</td>\n",
              "      <td>5</td>\n",
              "      <td>1</td>\n",
              "      <td>-1</td>\n",
              "    </tr>\n",
              "    <tr>\n",
              "      <th>1155</th>\n",
              "      <td>4059.69</td>\n",
              "      <td>2021-07-14</td>\n",
              "      <td>6</td>\n",
              "      <td>1</td>\n",
              "      <td>-1</td>\n",
              "    </tr>\n",
              "    <tr>\n",
              "      <th>1156</th>\n",
              "      <td>343.25</td>\n",
              "      <td>2021-07-15</td>\n",
              "      <td>4</td>\n",
              "      <td>0</td>\n",
              "      <td>1</td>\n",
              "    </tr>\n",
              "  </tbody>\n",
              "</table>\n",
              "<p>1157 rows × 5 columns</p>\n",
              "</div>"
            ],
            "text/plain": [
              "       Amount  Timestamp  Weekday  Analysis  IsOutlier\n",
              "0        0.15 2018-05-16        6         0          1\n",
              "1      156.34 2018-05-17        4         0          1\n",
              "2      370.60 2018-05-18        0         0          1\n",
              "3      239.73 2018-05-19        2         0          1\n",
              "4      118.32 2018-05-20        3         0          1\n",
              "...       ...        ...      ...       ...        ...\n",
              "1152  1814.46 2021-07-11        3         1         -1\n",
              "1153  4651.45 2021-07-12        1         1         -1\n",
              "1154  4578.15 2021-07-13        5         1         -1\n",
              "1155  4059.69 2021-07-14        6         1         -1\n",
              "1156   343.25 2021-07-15        4         0          1\n",
              "\n",
              "[1157 rows x 5 columns]"
            ]
          },
          "metadata": {},
          "execution_count": 216
        }
      ]
    },
    {
      "cell_type": "code",
      "metadata": {
        "colab": {
          "base_uri": "https://localhost:8080/"
        },
        "id": "7HmjCPxED6Ch",
        "outputId": "598c4a3b-4741-4ebb-f44b-1b092e103098"
      },
      "source": [
        "qtyOutliers(ypred3)"
      ],
      "execution_count": null,
      "outputs": [
        {
          "output_type": "execute_result",
          "data": {
            "text/plain": [
              "58"
            ]
          },
          "metadata": {},
          "execution_count": 217
        }
      ]
    }
  ]
}